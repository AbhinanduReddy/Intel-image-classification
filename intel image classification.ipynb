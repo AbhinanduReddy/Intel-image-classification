{
 "cells": [
  {
   "cell_type": "code",
   "execution_count": 1,
   "metadata": {},
   "outputs": [],
   "source": [
    "import numpy as np\n",
    "import os\n",
    "from sklearn.metrics import confusion_matrix\n",
    "import seaborn as sn; sn.set(font_scale=1.4)\n",
    "from sklearn.utils import shuffle           \n",
    "import matplotlib.pyplot as plt             \n",
    "import cv2                                 \n",
    "import tensorflow as tf                \n",
    "from tqdm import tqdm\n"
   ]
  },
  {
   "cell_type": "code",
   "execution_count": 2,
   "metadata": {},
   "outputs": [],
   "source": [
    "class_names = ['mountain', 'street', 'glacier', 'buildings', 'sea', 'forest']\n",
    "class_names_label = {class_name:i for i, class_name in enumerate(class_names)}"
   ]
  },
  {
   "cell_type": "code",
   "execution_count": 3,
   "metadata": {},
   "outputs": [
    {
     "data": {
      "text/plain": [
       "{'mountain': 0,\n",
       " 'street': 1,\n",
       " 'glacier': 2,\n",
       " 'buildings': 3,\n",
       " 'sea': 4,\n",
       " 'forest': 5}"
      ]
     },
     "execution_count": 3,
     "metadata": {},
     "output_type": "execute_result"
    }
   ],
   "source": [
    "class_names_label"
   ]
  },
  {
   "cell_type": "code",
   "execution_count": 4,
   "metadata": {},
   "outputs": [],
   "source": [
    "nb_classes = len(class_names)\n",
    "IMAGE_SIZE = (150, 150)\n"
   ]
  },
  {
   "cell_type": "code",
   "execution_count": 5,
   "metadata": {},
   "outputs": [],
   "source": [
    "def load_data():\n",
    "    datasets = [r\"F:\\intel image classification\\seg_train\", r\"F:\\intel image classification\\seg_test\"]\n",
    "    output=[]\n",
    "    for dataset in datasets:\n",
    "        images = []\n",
    "        labels = []\n",
    "        print(\"Loading {}\".format(dataset))\n",
    "        for folder in os.listdir(dataset):\n",
    "            label = class_names_label[folder]\n",
    "            for file in tqdm(os.listdir(os.path.join(dataset, folder))):\n",
    "                img_path = os.path.join(os.path.join(dataset, folder), file)\n",
    "                image = cv2.imread(img_path)\n",
    "                image = cv2.cvtColor(image, cv2.COLOR_BGR2RGB)\n",
    "                image = cv2.resize(image, IMAGE_SIZE)\n",
    "                images.append(image)\n",
    "                labels.append(label)\n",
    "        \n",
    "        images = np.array(images, dtype = 'float32')\n",
    "        labels = np.array(labels, dtype = 'int32')   \n",
    "        output.append((images, labels))\n",
    "        \n",
    "    return output\n",
    "        \n",
    "            \n",
    "        \n",
    "        "
   ]
  },
  {
   "cell_type": "code",
   "execution_count": 6,
   "metadata": {},
   "outputs": [
    {
     "name": "stdout",
     "output_type": "stream",
     "text": [
      "Loading F:\\intel image classification\\seg_train\n"
     ]
    },
    {
     "name": "stderr",
     "output_type": "stream",
     "text": [
      "100%|██████████| 2191/2191 [00:24<00:00, 89.65it/s] \n",
      "100%|██████████| 2271/2271 [00:30<00:00, 76.26it/s]\n",
      "100%|██████████| 2404/2404 [00:28<00:00, 85.42it/s] \n",
      "100%|██████████| 2512/2512 [00:35<00:00, 70.79it/s] \n",
      "100%|██████████| 2274/2274 [00:28<00:00, 79.12it/s] \n",
      "100%|██████████| 2382/2382 [00:08<00:00, 276.59it/s]\n"
     ]
    },
    {
     "name": "stdout",
     "output_type": "stream",
     "text": [
      "Loading F:\\intel image classification\\seg_test\n"
     ]
    },
    {
     "name": "stderr",
     "output_type": "stream",
     "text": [
      "100%|██████████| 437/437 [00:11<00:00, 38.11it/s]\n",
      "100%|██████████| 474/474 [00:12<00:00, 46.61it/s]\n",
      "100%|██████████| 553/553 [00:07<00:00, 73.93it/s] \n",
      "100%|██████████| 525/525 [00:08<00:00, 59.39it/s]\n",
      "100%|██████████| 510/510 [00:05<00:00, 85.07it/s] \n",
      "100%|██████████| 501/501 [00:06<00:00, 81.84it/s] \n"
     ]
    }
   ],
   "source": [
    "(train_images, train_labels), (test_images, test_labels) = load_data()"
   ]
  },
  {
   "cell_type": "code",
   "execution_count": 7,
   "metadata": {},
   "outputs": [
    {
     "name": "stdout",
     "output_type": "stream",
     "text": [
      "(14034, 150, 150, 3) (14034,)\n"
     ]
    }
   ],
   "source": [
    "print(train_images.shape,train_labels.shape)"
   ]
  },
  {
   "cell_type": "code",
   "execution_count": 8,
   "metadata": {},
   "outputs": [
    {
     "data": {
      "text/plain": [
       "(3000, 150, 150, 3)"
      ]
     },
     "execution_count": 8,
     "metadata": {},
     "output_type": "execute_result"
    }
   ],
   "source": [
    "test_images.shape"
   ]
  },
  {
   "cell_type": "code",
   "execution_count": 9,
   "metadata": {},
   "outputs": [],
   "source": [
    "train_images, train_labels = shuffle(train_images, train_labels, random_state=25)"
   ]
  },
  {
   "cell_type": "code",
   "execution_count": 11,
   "metadata": {},
   "outputs": [
    {
     "data": {
      "image/png": "[encoded data removed]",
      "text/plain": [
       "<Figure size 432x288 with 1 Axes>"
      ]
     },
     "metadata": {
      "needs_background": "light"
     },
     "output_type": "display_data"
    }
   ],
   "source": [
    "import pandas as pd\n",
    "\n",
    "_, train_counts = np.unique(train_labels, return_counts=True)\n",
    "_, test_counts = np.unique(test_labels, return_counts=True)\n",
    "pd.DataFrame({'train': train_counts,\n",
    "                    'test': test_counts}, \n",
    "             index=class_names\n",
    "            ).plot.bar()\n",
    "plt.show()"
   ]
  },
  {
   "cell_type": "code",
   "execution_count": 12,
   "metadata": {},
   "outputs": [
    {
     "data": {
      "image/png": "[encoded data removed]",
      "text/plain": [
       "<Figure size 432x288 with 1 Axes>"
      ]
     },
     "metadata": {},
     "output_type": "display_data"
    }
   ],
   "source": [
    "plt.pie(train_counts,\n",
    "        explode=(0, 0, 0, 0, 0, 0) , \n",
    "        labels=class_names,\n",
    "        autopct='%1.1f%%')\n",
    "plt.axis('equal')\n",
    "plt.title('Proportion of each observed category')\n",
    "plt.show()"
   ]
  },
  {
   "cell_type": "code",
   "execution_count": 13,
   "metadata": {},
   "outputs": [],
   "source": [
    "train_images = train_images / 255.0 \n",
    "test_images = test_images / 255.0"
   ]
  },
  {
   "cell_type": "code",
   "execution_count": 18,
   "metadata": {},
   "outputs": [],
   "source": [
    "model = tf.keras.Sequential([\n",
    "    tf.keras.layers.Conv2D(32, (3, 3), activation = 'relu', input_shape = (150, 150, 3)), \n",
    "    tf.keras.layers.MaxPooling2D(2,2),\n",
    "    tf.keras.layers.Conv2D(32, (3, 3), activation = 'relu'),\n",
    "    tf.keras.layers.MaxPooling2D(2,2),\n",
    "    tf.keras.layers.Flatten(),\n",
    "    tf.keras.layers.Dense(128, activation=tf.nn.relu),\n",
    "    tf.keras.layers.Dense(64, activation=tf.nn.relu),\n",
    "    tf.keras.layers.Dense(6, activation=tf.nn.softmax)\n",
    "])"
   ]
  },
  {
   "cell_type": "code",
   "execution_count": 19,
   "metadata": {},
   "outputs": [],
   "source": [
    "model.compile(optimizer = 'adam', loss = 'sparse_categorical_crossentropy', metrics=['accuracy'])"
   ]
  },
  {
   "cell_type": "code",
   "execution_count": 21,
   "metadata": {
    "scrolled": false
   },
   "outputs": [
    {
     "name": "stdout",
     "output_type": "stream",
     "text": [
      "Train on 11227 samples, validate on 2807 samples\n",
      "Epoch 1/5\n",
      "11227/11227 [==============================] - ETA: 4:14 - loss: 0.7685 - acc: 0.742 - ETA: 3:44 - loss: 0.7266 - acc: 0.750 - ETA: 3:42 - loss: 0.7187 - acc: 0.755 - ETA: 3:36 - loss: 0.7514 - acc: 0.746 - ETA: 3:34 - loss: 0.7724 - acc: 0.728 - ETA: 4:14 - loss: 0.7807 - acc: 0.724 - ETA: 4:54 - loss: 0.7771 - acc: 0.723 - ETA: 4:44 - loss: 0.7705 - acc: 0.721 - ETA: 4:52 - loss: 0.7552 - acc: 0.729 - ETA: 4:43 - loss: 0.7546 - acc: 0.732 - ETA: 4:47 - loss: 0.7519 - acc: 0.733 - ETA: 4:41 - loss: 0.7617 - acc: 0.727 - ETA: 4:31 - loss: 0.7592 - acc: 0.727 - ETA: 4:30 - loss: 0.7620 - acc: 0.727 - ETA: 4:20 - loss: 0.7692 - acc: 0.723 - ETA: 4:11 - loss: 0.7572 - acc: 0.728 - ETA: 4:06 - loss: 0.7519 - acc: 0.728 - ETA: 4:05 - loss: 0.7492 - acc: 0.727 - ETA: 3:59 - loss: 0.7480 - acc: 0.725 - ETA: 3:52 - loss: 0.7452 - acc: 0.725 - ETA: 3:54 - loss: 0.7536 - acc: 0.721 - ETA: 3:48 - loss: 0.7438 - acc: 0.725 - ETA: 3:46 - loss: 0.7319 - acc: 0.731 - ETA: 3:40 - loss: 0.7305 - acc: 0.731 - ETA: 3:36 - loss: 0.7298 - acc: 0.732 - ETA: 3:31 - loss: 0.7339 - acc: 0.731 - ETA: 3:26 - loss: 0.7328 - acc: 0.733 - ETA: 3:23 - loss: 0.7339 - acc: 0.733 - ETA: 3:21 - loss: 0.7333 - acc: 0.734 - ETA: 3:17 - loss: 0.7332 - acc: 0.735 - ETA: 3:12 - loss: 0.7310 - acc: 0.736 - ETA: 3:09 - loss: 0.7331 - acc: 0.735 - ETA: 3:04 - loss: 0.7290 - acc: 0.737 - ETA: 3:01 - loss: 0.7292 - acc: 0.737 - ETA: 2:56 - loss: 0.7290 - acc: 0.736 - ETA: 2:53 - loss: 0.7262 - acc: 0.737 - ETA: 2:49 - loss: 0.7258 - acc: 0.738 - ETA: 2:46 - loss: 0.7217 - acc: 0.740 - ETA: 2:44 - loss: 0.7204 - acc: 0.740 - ETA: 2:41 - loss: 0.7194 - acc: 0.740 - ETA: 2:37 - loss: 0.7194 - acc: 0.739 - ETA: 2:33 - loss: 0.7183 - acc: 0.740 - ETA: 2:32 - loss: 0.7163 - acc: 0.741 - ETA: 2:28 - loss: 0.7135 - acc: 0.743 - ETA: 2:26 - loss: 0.7110 - acc: 0.743 - ETA: 2:23 - loss: 0.7091 - acc: 0.743 - ETA: 2:20 - loss: 0.7067 - acc: 0.744 - ETA: 2:17 - loss: 0.7072 - acc: 0.743 - ETA: 2:13 - loss: 0.7057 - acc: 0.744 - ETA: 2:09 - loss: 0.7033 - acc: 0.745 - ETA: 2:06 - loss: 0.7029 - acc: 0.745 - ETA: 2:03 - loss: 0.7032 - acc: 0.745 - ETA: 1:59 - loss: 0.7021 - acc: 0.746 - ETA: 1:56 - loss: 0.6978 - acc: 0.747 - ETA: 1:52 - loss: 0.6990 - acc: 0.746 - ETA: 1:48 - loss: 0.6975 - acc: 0.747 - ETA: 1:45 - loss: 0.6940 - acc: 0.748 - ETA: 1:41 - loss: 0.6961 - acc: 0.747 - ETA: 1:37 - loss: 0.6974 - acc: 0.747 - ETA: 1:34 - loss: 0.6975 - acc: 0.747 - ETA: 1:30 - loss: 0.6970 - acc: 0.748 - ETA: 1:27 - loss: 0.6959 - acc: 0.749 - ETA: 1:24 - loss: 0.6964 - acc: 0.747 - ETA: 1:20 - loss: 0.6969 - acc: 0.747 - ETA: 1:17 - loss: 0.6972 - acc: 0.747 - ETA: 1:13 - loss: 0.7013 - acc: 0.745 - ETA: 1:10 - loss: 0.7009 - acc: 0.745 - ETA: 1:06 - loss: 0.7002 - acc: 0.746 - ETA: 1:03 - loss: 0.7009 - acc: 0.745 - ETA: 1:00 - loss: 0.7000 - acc: 0.745 - ETA: 57s - loss: 0.7021 - acc: 0.744 - ETA: 54s - loss: 0.7034 - acc: 0.74 - ETA: 50s - loss: 0.7029 - acc: 0.74 - ETA: 47s - loss: 0.7022 - acc: 0.74 - ETA: 43s - loss: 0.7033 - acc: 0.74 - ETA: 40s - loss: 0.7038 - acc: 0.74 - ETA: 36s - loss: 0.7033 - acc: 0.74 - ETA: 33s - loss: 0.7019 - acc: 0.74 - ETA: 29s - loss: 0.7001 - acc: 0.74 - ETA: 26s - loss: 0.6984 - acc: 0.74 - ETA: 22s - loss: 0.6978 - acc: 0.74 - ETA: 19s - loss: 0.6986 - acc: 0.74 - ETA: 16s - loss: 0.6980 - acc: 0.74 - ETA: 12s - loss: 0.6989 - acc: 0.74 - ETA: 9s - loss: 0.7000 - acc: 0.7462 - ETA: 5s - loss: 0.6991 - acc: 0.746 - ETA: 2s - loss: 0.6972 - acc: 0.747 - 370s 33ms/sample - loss: 0.6970 - acc: 0.7475 - val_loss: 0.7597 - val_acc: 0.7250\n",
      "Epoch 2/5\n",
      "11227/11227 [==============================] - ETA: 3:40 - loss: 0.5333 - acc: 0.796 - ETA: 3:31 - loss: 0.6091 - acc: 0.781 - ETA: 3:36 - loss: 0.5706 - acc: 0.794 - ETA: 3:30 - loss: 0.5687 - acc: 0.794 - ETA: 3:51 - loss: 0.5566 - acc: 0.796 - ETA: 3:47 - loss: 0.5565 - acc: 0.798 - ETA: 3:40 - loss: 0.5770 - acc: 0.792 - ETA: 3:33 - loss: 0.5697 - acc: 0.799 - ETA: 3:27 - loss: 0.5874 - acc: 0.792 - ETA: 3:22 - loss: 0.5880 - acc: 0.793 - ETA: 3:18 - loss: 0.5808 - acc: 0.796 - ETA: 3:15 - loss: 0.5780 - acc: 0.798 - ETA: 3:13 - loss: 0.5767 - acc: 0.799 - ETA: 3:09 - loss: 0.5839 - acc: 0.794 - ETA: 3:06 - loss: 0.5773 - acc: 0.798 - ETA: 3:03 - loss: 0.5765 - acc: 0.799 - ETA: 2:59 - loss: 0.5792 - acc: 0.799 - ETA: 2:56 - loss: 0.5800 - acc: 0.799 - ETA: 2:53 - loss: 0.5785 - acc: 0.800 - ETA: 2:52 - loss: 0.5772 - acc: 0.800 - ETA: 2:48 - loss: 0.5791 - acc: 0.799 - ETA: 2:45 - loss: 0.5755 - acc: 0.800 - ETA: 2:42 - loss: 0.5742 - acc: 0.801 - ETA: 2:40 - loss: 0.5712 - acc: 0.801 - ETA: 2:37 - loss: 0.5684 - acc: 0.802 - ETA: 2:35 - loss: 0.5622 - acc: 0.804 - ETA: 2:32 - loss: 0.5613 - acc: 0.804 - ETA: 2:29 - loss: 0.5613 - acc: 0.804 - ETA: 2:27 - loss: 0.5575 - acc: 0.805 - ETA: 2:24 - loss: 0.5542 - acc: 0.805 - ETA: 2:21 - loss: 0.5561 - acc: 0.803 - ETA: 2:18 - loss: 0.5554 - acc: 0.803 - ETA: 2:16 - loss: 0.5527 - acc: 0.804 - ETA: 2:13 - loss: 0.5504 - acc: 0.804 - ETA: 2:10 - loss: 0.5486 - acc: 0.804 - ETA: 2:09 - loss: 0.5474 - acc: 0.803 - ETA: 2:06 - loss: 0.5479 - acc: 0.803 - ETA: 2:03 - loss: 0.5480 - acc: 0.802 - ETA: 2:01 - loss: 0.5449 - acc: 0.802 - ETA: 1:58 - loss: 0.5446 - acc: 0.803 - ETA: 1:56 - loss: 0.5434 - acc: 0.803 - ETA: 1:53 - loss: 0.5410 - acc: 0.803 - ETA: 1:50 - loss: 0.5409 - acc: 0.805 - ETA: 1:48 - loss: 0.5368 - acc: 0.807 - ETA: 1:46 - loss: 0.5348 - acc: 0.808 - ETA: 1:44 - loss: 0.5348 - acc: 0.807 - ETA: 1:41 - loss: 0.5350 - acc: 0.806 - ETA: 1:38 - loss: 0.5331 - acc: 0.806 - ETA: 1:36 - loss: 0.5339 - acc: 0.805 - ETA: 1:34 - loss: 0.5348 - acc: 0.805 - ETA: 1:31 - loss: 0.5369 - acc: 0.805 - ETA: 1:28 - loss: 0.5378 - acc: 0.805 - ETA: 1:26 - loss: 0.5359 - acc: 0.806 - ETA: 1:23 - loss: 0.5357 - acc: 0.806 - ETA: 1:21 - loss: 0.5364 - acc: 0.806 - ETA: 1:18 - loss: 0.5367 - acc: 0.805 - ETA: 1:16 - loss: 0.5342 - acc: 0.806 - ETA: 1:14 - loss: 0.5332 - acc: 0.807 - ETA: 1:12 - loss: 0.5330 - acc: 0.808 - ETA: 1:09 - loss: 0.5329 - acc: 0.808 - ETA: 1:07 - loss: 0.5349 - acc: 0.808 - ETA: 1:04 - loss: 0.5330 - acc: 0.808 - ETA: 1:02 - loss: 0.5333 - acc: 0.808 - ETA: 1:00 - loss: 0.5332 - acc: 0.808 - ETA: 57s - loss: 0.5360 - acc: 0.807 - ETA: 54s - loss: 0.5352 - acc: 0.80 - ETA: 52s - loss: 0.5340 - acc: 0.80 - ETA: 49s - loss: 0.5342 - acc: 0.80 - ETA: 47s - loss: 0.5364 - acc: 0.80 - ETA: 44s - loss: 0.5361 - acc: 0.80 - ETA: 42s - loss: 0.5353 - acc: 0.80 - ETA: 40s - loss: 0.5356 - acc: 0.80 - ETA: 37s - loss: 0.5378 - acc: 0.80 - ETA: 35s - loss: 0.5371 - acc: 0.80 - ETA: 32s - loss: 0.5381 - acc: 0.80 - ETA: 29s - loss: 0.5372 - acc: 0.80 - ETA: 27s - loss: 0.5366 - acc: 0.80 - ETA: 24s - loss: 0.5388 - acc: 0.80 - ETA: 22s - loss: 0.5378 - acc: 0.80 - ETA: 19s - loss: 0.5387 - acc: 0.80 - ETA: 17s - loss: 0.5375 - acc: 0.80 - ETA: 14s - loss: 0.5368 - acc: 0.80 - ETA: 12s - loss: 0.5357 - acc: 0.80 - ETA: 9s - loss: 0.5354 - acc: 0.8079 - ETA: 6s - loss: 0.5355 - acc: 0.808 - ETA: 4s - loss: 0.5359 - acc: 0.808 - ETA: 1s - loss: 0.5349 - acc: 0.808 - 241s 21ms/sample - loss: 0.5346 - acc: 0.8092 - val_loss: 0.6552 - val_acc: 0.7613\n",
      "Epoch 3/5\n",
      "11227/11227 [==============================] - ETA: 3:22 - loss: 0.3721 - acc: 0.890 - ETA: 3:21 - loss: 0.4326 - acc: 0.851 - ETA: 3:14 - loss: 0.4159 - acc: 0.856 - ETA: 3:13 - loss: 0.3971 - acc: 0.867 - ETA: 3:10 - loss: 0.4153 - acc: 0.859 - ETA: 3:08 - loss: 0.4089 - acc: 0.860 - ETA: 3:07 - loss: 0.4035 - acc: 0.859 - ETA: 3:04 - loss: 0.3987 - acc: 0.862 - ETA: 3:02 - loss: 0.3843 - acc: 0.870 - ETA: 2:59 - loss: 0.3903 - acc: 0.869 - ETA: 2:55 - loss: 0.4067 - acc: 0.861 - ETA: 2:53 - loss: 0.3981 - acc: 0.865 - ETA: 2:51 - loss: 0.3982 - acc: 0.867 - ETA: 2:49 - loss: 0.3991 - acc: 0.867 - ETA: 2:47 - loss: 0.3961 - acc: 0.869 - ETA: 2:44 - loss: 0.4068 - acc: 0.862 - ETA: 2:41 - loss: 0.4044 - acc: 0.863 - ETA: 2:39 - loss: 0.4004 - acc: 0.865 - ETA: 2:37 - loss: 0.3942 - acc: 0.867 - ETA: 2:34 - loss: 0.3899 - acc: 0.869 - ETA: 2:32 - loss: 0.3874 - acc: 0.870 - ETA: 2:30 - loss: 0.3883 - acc: 0.869 - ETA: 2:27 - loss: 0.3885 - acc: 0.867 - ETA: 2:25 - loss: 0.3943 - acc: 0.866 - ETA: 2:22 - loss: 0.3916 - acc: 0.867 - ETA: 2:20 - loss: 0.3944 - acc: 0.867 - ETA: 2:17 - loss: 0.3942 - acc: 0.866 - ETA: 2:15 - loss: 0.3946 - acc: 0.865 - ETA: 2:13 - loss: 0.3952 - acc: 0.865 - ETA: 2:11 - loss: 0.3965 - acc: 0.865 - ETA: 2:09 - loss: 0.3922 - acc: 0.866 - ETA: 2:06 - loss: 0.3953 - acc: 0.865 - ETA: 2:04 - loss: 0.3960 - acc: 0.865 - ETA: 2:02 - loss: 0.3945 - acc: 0.864 - ETA: 1:59 - loss: 0.3950 - acc: 0.865 - ETA: 1:57 - loss: 0.3960 - acc: 0.865 - ETA: 1:55 - loss: 0.3956 - acc: 0.866 - ETA: 1:53 - loss: 0.3961 - acc: 0.866 - ETA: 1:50 - loss: 0.3944 - acc: 0.867 - ETA: 1:48 - loss: 0.3931 - acc: 0.868 - ETA: 1:46 - loss: 0.3930 - acc: 0.868 - ETA: 1:44 - loss: 0.3929 - acc: 0.868 - ETA: 1:41 - loss: 0.3924 - acc: 0.868 - ETA: 1:39 - loss: 0.3910 - acc: 0.868 - ETA: 1:37 - loss: 0.3907 - acc: 0.868 - ETA: 1:35 - loss: 0.3896 - acc: 0.869 - ETA: 1:32 - loss: 0.3880 - acc: 0.869 - ETA: 1:30 - loss: 0.3874 - acc: 0.869 - ETA: 1:28 - loss: 0.3870 - acc: 0.868 - ETA: 1:26 - loss: 0.3850 - acc: 0.869 - ETA: 1:23 - loss: 0.3859 - acc: 0.868 - ETA: 1:21 - loss: 0.3856 - acc: 0.867 - ETA: 1:19 - loss: 0.3869 - acc: 0.867 - ETA: 1:16 - loss: 0.3860 - acc: 0.867 - ETA: 1:14 - loss: 0.3877 - acc: 0.866 - ETA: 1:12 - loss: 0.3873 - acc: 0.866 - ETA: 1:10 - loss: 0.3881 - acc: 0.866 - ETA: 1:07 - loss: 0.3885 - acc: 0.866 - ETA: 1:05 - loss: 0.3866 - acc: 0.867 - ETA: 1:03 - loss: 0.3861 - acc: 0.867 - ETA: 1:00 - loss: 0.3886 - acc: 0.866 - ETA: 58s - loss: 0.3885 - acc: 0.866 - ETA: 56s - loss: 0.3882 - acc: 0.86 - ETA: 54s - loss: 0.3892 - acc: 0.86 - ETA: 51s - loss: 0.3906 - acc: 0.86 - ETA: 49s - loss: 0.3913 - acc: 0.86 - ETA: 47s - loss: 0.3908 - acc: 0.86 - ETA: 44s - loss: 0.3898 - acc: 0.86 - ETA: 42s - loss: 0.3899 - acc: 0.86 - ETA: 40s - loss: 0.3887 - acc: 0.86 - ETA: 38s - loss: 0.3888 - acc: 0.86 - ETA: 35s - loss: 0.3896 - acc: 0.86 - ETA: 33s - loss: 0.3891 - acc: 0.86 - ETA: 31s - loss: 0.3886 - acc: 0.86 - ETA: 28s - loss: 0.3887 - acc: 0.86 - ETA: 26s - loss: 0.3889 - acc: 0.86 - ETA: 24s - loss: 0.3892 - acc: 0.86 - ETA: 22s - loss: 0.3902 - acc: 0.86 - ETA: 19s - loss: 0.3911 - acc: 0.86 - ETA: 17s - loss: 0.3909 - acc: 0.86 - ETA: 15s - loss: 0.3896 - acc: 0.86 - ETA: 13s - loss: 0.3901 - acc: 0.86 - ETA: 10s - loss: 0.3910 - acc: 0.86 - ETA: 8s - loss: 0.3910 - acc: 0.8656 - ETA: 6s - loss: 0.3913 - acc: 0.865 - ETA: 3s - loss: 0.3900 - acc: 0.866 - ETA: 1s - loss: 0.3907 - acc: 0.865 - 214s 19ms/sample - loss: 0.3929 - acc: 0.8645 - val_loss: 0.6505 - val_acc: 0.7695\n",
      "Epoch 4/5\n",
      "11227/11227 [==============================] - ETA: 3:16 - loss: 0.3092 - acc: 0.898 - ETA: 3:11 - loss: 0.3100 - acc: 0.906 - ETA: 3:11 - loss: 0.3097 - acc: 0.893 - ETA: 3:11 - loss: 0.3319 - acc: 0.880 - ETA: 3:13 - loss: 0.3216 - acc: 0.878 - ETA: 3:09 - loss: 0.3148 - acc: 0.885 - ETA: 3:06 - loss: 0.3088 - acc: 0.886 - ETA: 3:03 - loss: 0.3068 - acc: 0.890 - ETA: 3:00 - loss: 0.3005 - acc: 0.892 - ETA: 2:57 - loss: 0.3000 - acc: 0.893 - ETA: 2:55 - loss: 0.3012 - acc: 0.897 - ETA: 2:54 - loss: 0.2987 - acc: 0.899 - ETA: 2:51 - loss: 0.2875 - acc: 0.903 - ETA: 2:48 - loss: 0.2846 - acc: 0.906 - ETA: 2:46 - loss: 0.2883 - acc: 0.905 - ETA: 2:43 - loss: 0.2882 - acc: 0.904 - ETA: 2:41 - loss: 0.2853 - acc: 0.905 - ETA: 2:39 - loss: 0.2810 - acc: 0.907 - ETA: 2:37 - loss: 0.2801 - acc: 0.907 - ETA: 2:35 - loss: 0.2825 - acc: 0.907 - ETA: 2:32 - loss: 0.2804 - acc: 0.907 - ETA: 2:30 - loss: 0.2778 - acc: 0.909 - ETA: 2:27 - loss: 0.2786 - acc: 0.909 - ETA: 2:25 - loss: 0.2777 - acc: 0.909 - ETA: 2:23 - loss: 0.2796 - acc: 0.908 - ETA: 2:21 - loss: 0.2767 - acc: 0.909 - ETA: 2:18 - loss: 0.2790 - acc: 0.908 - ETA: 2:16 - loss: 0.2774 - acc: 0.908 - ETA: 2:14 - loss: 0.2794 - acc: 0.908 - ETA: 2:11 - loss: 0.2774 - acc: 0.908 - ETA: 2:09 - loss: 0.2783 - acc: 0.908 - ETA: 2:07 - loss: 0.2775 - acc: 0.908 - ETA: 2:05 - loss: 0.2765 - acc: 0.909 - ETA: 2:03 - loss: 0.2763 - acc: 0.908 - ETA: 2:00 - loss: 0.2790 - acc: 0.907 - ETA: 1:58 - loss: 0.2807 - acc: 0.906 - ETA: 1:56 - loss: 0.2806 - acc: 0.907 - ETA: 1:53 - loss: 0.2861 - acc: 0.904 - ETA: 1:51 - loss: 0.2868 - acc: 0.904 - ETA: 1:49 - loss: 0.2869 - acc: 0.904 - ETA: 1:47 - loss: 0.2864 - acc: 0.904 - ETA: 1:45 - loss: 0.2854 - acc: 0.905 - ETA: 1:42 - loss: 0.2863 - acc: 0.904 - ETA: 1:40 - loss: 0.2865 - acc: 0.905 - ETA: 1:38 - loss: 0.2873 - acc: 0.905 - ETA: 1:35 - loss: 0.2865 - acc: 0.905 - ETA: 1:33 - loss: 0.2861 - acc: 0.904 - ETA: 1:31 - loss: 0.2861 - acc: 0.905 - ETA: 1:29 - loss: 0.2856 - acc: 0.905 - ETA: 1:26 - loss: 0.2855 - acc: 0.905 - ETA: 1:24 - loss: 0.2878 - acc: 0.904 - ETA: 1:22 - loss: 0.2889 - acc: 0.904 - ETA: 1:19 - loss: 0.2882 - acc: 0.904 - ETA: 1:17 - loss: 0.2903 - acc: 0.903 - ETA: 1:15 - loss: 0.2892 - acc: 0.904 - ETA: 1:12 - loss: 0.2894 - acc: 0.904 - ETA: 1:10 - loss: 0.2894 - acc: 0.904 - ETA: 1:08 - loss: 0.2902 - acc: 0.904 - ETA: 1:06 - loss: 0.2890 - acc: 0.904 - ETA: 1:03 - loss: 0.2888 - acc: 0.904 - ETA: 1:01 - loss: 0.2878 - acc: 0.904 - ETA: 59s - loss: 0.2870 - acc: 0.905 - ETA: 56s - loss: 0.2859 - acc: 0.90 - ETA: 54s - loss: 0.2843 - acc: 0.90 - ETA: 52s - loss: 0.2838 - acc: 0.90 - ETA: 49s - loss: 0.2824 - acc: 0.90 - ETA: 47s - loss: 0.2827 - acc: 0.90 - ETA: 45s - loss: 0.2825 - acc: 0.90 - ETA: 43s - loss: 0.2831 - acc: 0.90 - ETA: 40s - loss: 0.2811 - acc: 0.90 - ETA: 38s - loss: 0.2796 - acc: 0.90 - ETA: 36s - loss: 0.2799 - acc: 0.90 - ETA: 33s - loss: 0.2794 - acc: 0.90 - ETA: 31s - loss: 0.2793 - acc: 0.90 - ETA: 29s - loss: 0.2780 - acc: 0.90 - ETA: 26s - loss: 0.2786 - acc: 0.90 - ETA: 24s - loss: 0.2777 - acc: 0.90 - ETA: 22s - loss: 0.2766 - acc: 0.90 - ETA: 20s - loss: 0.2758 - acc: 0.90 - ETA: 17s - loss: 0.2755 - acc: 0.90 - ETA: 15s - loss: 0.2750 - acc: 0.90 - ETA: 13s - loss: 0.2744 - acc: 0.90 - ETA: 10s - loss: 0.2750 - acc: 0.90 - ETA: 8s - loss: 0.2746 - acc: 0.9087 - ETA: 6s - loss: 0.2744 - acc: 0.908 - ETA: 3s - loss: 0.2747 - acc: 0.908 - ETA: 1s - loss: 0.2745 - acc: 0.908 - 216s 19ms/sample - loss: 0.2736 - acc: 0.9089 - val_loss: 0.6636 - val_acc: 0.7848\n",
      "Epoch 5/5\n",
      "11227/11227 [==============================] - ETA: 3:31 - loss: 0.1115 - acc: 0.984 - ETA: 3:25 - loss: 0.1229 - acc: 0.980 - ETA: 3:19 - loss: 0.1546 - acc: 0.955 - ETA: 3:14 - loss: 0.1499 - acc: 0.960 - ETA: 3:10 - loss: 0.1427 - acc: 0.964 - ETA: 3:08 - loss: 0.1484 - acc: 0.964 - ETA: 3:05 - loss: 0.1487 - acc: 0.966 - ETA: 3:04 - loss: 0.1536 - acc: 0.964 - ETA: 3:01 - loss: 0.1519 - acc: 0.965 - ETA: 2:58 - loss: 0.1517 - acc: 0.966 - ETA: 2:54 - loss: 0.1497 - acc: 0.967 - ETA: 2:51 - loss: 0.1474 - acc: 0.968 - ETA: 2:48 - loss: 0.1498 - acc: 0.966 - ETA: 2:45 - loss: 0.1477 - acc: 0.967 - ETA: 2:44 - loss: 0.1510 - acc: 0.967 - ETA: 2:42 - loss: 0.1501 - acc: 0.965 - ETA: 2:39 - loss: 0.1506 - acc: 0.964 - ETA: 2:37 - loss: 0.1523 - acc: 0.964 - ETA: 2:35 - loss: 0.1527 - acc: 0.963 - ETA: 2:32 - loss: 0.1509 - acc: 0.964 - ETA: 2:30 - loss: 0.1524 - acc: 0.962 - ETA: 2:28 - loss: 0.1525 - acc: 0.962 - ETA: 2:26 - loss: 0.1509 - acc: 0.963 - ETA: 2:24 - loss: 0.1503 - acc: 0.963 - ETA: 2:21 - loss: 0.1494 - acc: 0.963 - ETA: 2:19 - loss: 0.1495 - acc: 0.962 - ETA: 2:17 - loss: 0.1477 - acc: 0.963 - ETA: 2:14 - loss: 0.1482 - acc: 0.962 - ETA: 2:12 - loss: 0.1501 - acc: 0.961 - ETA: 2:10 - loss: 0.1484 - acc: 0.961 - ETA: 2:08 - loss: 0.1515 - acc: 0.959 - ETA: 2:06 - loss: 0.1507 - acc: 0.960 - ETA: 2:03 - loss: 0.1512 - acc: 0.959 - ETA: 2:01 - loss: 0.1499 - acc: 0.960 - ETA: 1:59 - loss: 0.1517 - acc: 0.959 - ETA: 1:57 - loss: 0.1506 - acc: 0.959 - ETA: 1:54 - loss: 0.1523 - acc: 0.958 - ETA: 1:52 - loss: 0.1533 - acc: 0.958 - ETA: 1:50 - loss: 0.1525 - acc: 0.958 - ETA: 1:48 - loss: 0.1530 - acc: 0.958 - ETA: 1:45 - loss: 0.1528 - acc: 0.958 - ETA: 1:43 - loss: 0.1527 - acc: 0.958 - ETA: 1:41 - loss: 0.1530 - acc: 0.957 - ETA: 1:39 - loss: 0.1538 - acc: 0.957 - ETA: 1:37 - loss: 0.1529 - acc: 0.958 - ETA: 1:34 - loss: 0.1562 - acc: 0.957 - ETA: 1:32 - loss: 0.1572 - acc: 0.956 - ETA: 1:30 - loss: 0.1592 - acc: 0.955 - ETA: 1:27 - loss: 0.1595 - acc: 0.955 - ETA: 1:25 - loss: 0.1602 - acc: 0.954 - ETA: 1:23 - loss: 0.1592 - acc: 0.955 - ETA: 1:21 - loss: 0.1584 - acc: 0.955 - ETA: 1:19 - loss: 0.1588 - acc: 0.955 - ETA: 1:17 - loss: 0.1585 - acc: 0.955 - ETA: 1:14 - loss: 0.1586 - acc: 0.955 - ETA: 1:12 - loss: 0.1587 - acc: 0.955 - ETA: 1:10 - loss: 0.1582 - acc: 0.955 - ETA: 1:07 - loss: 0.1573 - acc: 0.955 - ETA: 1:05 - loss: 0.1582 - acc: 0.955 - ETA: 1:03 - loss: 0.1581 - acc: 0.955 - ETA: 1:00 - loss: 0.1574 - acc: 0.955 - ETA: 58s - loss: 0.1570 - acc: 0.955 - ETA: 56s - loss: 0.1567 - acc: 0.95 - ETA: 54s - loss: 0.1562 - acc: 0.95 - ETA: 51s - loss: 0.1573 - acc: 0.95 - ETA: 49s - loss: 0.1566 - acc: 0.95 - ETA: 47s - loss: 0.1564 - acc: 0.95 - ETA: 45s - loss: 0.1571 - acc: 0.95 - ETA: 42s - loss: 0.1571 - acc: 0.95 - ETA: 40s - loss: 0.1569 - acc: 0.95 - ETA: 38s - loss: 0.1571 - acc: 0.95 - ETA: 35s - loss: 0.1570 - acc: 0.95 - ETA: 33s - loss: 0.1573 - acc: 0.95 - ETA: 31s - loss: 0.1573 - acc: 0.95 - ETA: 29s - loss: 0.1592 - acc: 0.95 - ETA: 26s - loss: 0.1599 - acc: 0.95 - ETA: 24s - loss: 0.1611 - acc: 0.95 - ETA: 22s - loss: 0.1621 - acc: 0.95 - ETA: 19s - loss: 0.1633 - acc: 0.95 - ETA: 17s - loss: 0.1642 - acc: 0.95 - ETA: 15s - loss: 0.1649 - acc: 0.95 - ETA: 13s - loss: 0.1646 - acc: 0.95 - ETA: 10s - loss: 0.1662 - acc: 0.95 - ETA: 8s - loss: 0.1670 - acc: 0.9499 - ETA: 6s - loss: 0.1680 - acc: 0.949 - ETA: 3s - loss: 0.1679 - acc: 0.949 - ETA: 1s - loss: 0.1681 - acc: 0.949 - 215s 19ms/sample - loss: 0.1689 - acc: 0.9497 - val_loss: 0.7569 - val_acc: 0.7549\n"
     ]
    }
   ],
   "source": [
    "history = model.fit(train_images, train_labels, batch_size=128, epochs=5, validation_split = 0.2)\n"
   ]
  },
  {
   "cell_type": "code",
   "execution_count": 37,
   "metadata": {},
   "outputs": [],
   "source": [
    "def plot_accuracy_loss(history):\n",
    "    fig = plt.figure(figsize=(10,5))\n",
    "    plt.subplot(221)\n",
    "    plt.plot(history.history['acc'], label = \"acc\")\n",
    "    plt.plot(history.history['val_acc'], label = \"val_acc\")\n",
    "    plt.title(\"train_acc vs val_acc\")\n",
    "    plt.ylabel(\"accuracy\")\n",
    "    plt.xlabel(\"epochs\")\n",
    "    plt.legend()\n",
    "    plt.subplot(222)\n",
    "    plt.plot(history.history['loss'] ,label = \"loss\")\n",
    "    plt.plot(history.history['val_loss'], label = \"val_loss\")\n",
    "    plt.title(\"train_loss vs val_loss\")\n",
    "    plt.ylabel(\"loss\")\n",
    "    plt.xlabel(\"epochs\")\n",
    "\n",
    "    plt.legend()\n",
    "    plt.show()\n"
   ]
  },
  {
   "cell_type": "code",
   "execution_count": 38,
   "metadata": {},
   "outputs": [
    {
     "data": {
      "image/png": "[encoded data removed]",
      "text/plain": [
       "<Figure size 720x360 with 2 Axes>"
      ]
     },
     "metadata": {
      "needs_background": "light"
     },
     "output_type": "display_data"
    }
   ],
   "source": [
    "plot_accuracy_loss(history)\n"
   ]
  },
  {
   "cell_type": "code",
   "execution_count": 24,
   "metadata": {},
   "outputs": [
    {
     "name": "stdout",
     "output_type": "stream",
     "text": [
      "3000/3000 [==============================] - ETA: 59s - loss: 0.4441 - acc: 0.81 - ETA: 39s - loss: 0.4119 - acc: 0.82 - ETA: 34s - loss: 0.5398 - acc: 0.82 - ETA: 30s - loss: 0.5176 - acc: 0.82 - ETA: 30s - loss: 0.4694 - acc: 0.83 - ETA: 30s - loss: 0.4325 - acc: 0.84 - ETA: 30s - loss: 0.4196 - acc: 0.85 - ETA: 32s - loss: 0.4017 - acc: 0.86 - ETA: 32s - loss: 0.4095 - acc: 0.86 - ETA: 31s - loss: 0.4617 - acc: 0.85 - ETA: 30s - loss: 0.4631 - acc: 0.84 - ETA: 30s - loss: 0.4831 - acc: 0.83 - ETA: 29s - loss: 0.4833 - acc: 0.84 - ETA: 28s - loss: 0.5003 - acc: 0.84 - ETA: 27s - loss: 0.4946 - acc: 0.83 - ETA: 26s - loss: 0.4755 - acc: 0.84 - ETA: 26s - loss: 0.4545 - acc: 0.85 - ETA: 26s - loss: 0.4349 - acc: 0.85 - ETA: 26s - loss: 0.4291 - acc: 0.85 - ETA: 26s - loss: 0.4457 - acc: 0.85 - ETA: 26s - loss: 0.4283 - acc: 0.85 - ETA: 25s - loss: 0.4443 - acc: 0.85 - ETA: 25s - loss: 0.4389 - acc: 0.85 - ETA: 24s - loss: 0.4306 - acc: 0.85 - ETA: 24s - loss: 0.4404 - acc: 0.85 - ETA: 23s - loss: 0.4269 - acc: 0.86 - ETA: 23s - loss: 0.4137 - acc: 0.86 - ETA: 23s - loss: 0.4149 - acc: 0.86 - ETA: 22s - loss: 0.4131 - acc: 0.86 - ETA: 22s - loss: 0.4402 - acc: 0.85 - ETA: 22s - loss: 0.4739 - acc: 0.85 - ETA: 21s - loss: 0.4892 - acc: 0.84 - ETA: 21s - loss: 0.5051 - acc: 0.84 - ETA: 21s - loss: 0.5200 - acc: 0.83 - ETA: 20s - loss: 0.5383 - acc: 0.82 - ETA: 20s - loss: 0.5499 - acc: 0.82 - ETA: 20s - loss: 0.5572 - acc: 0.82 - ETA: 19s - loss: 0.5648 - acc: 0.81 - ETA: 19s - loss: 0.5802 - acc: 0.81 - ETA: 20s - loss: 0.5919 - acc: 0.81 - ETA: 20s - loss: 0.6012 - acc: 0.80 - ETA: 20s - loss: 0.6140 - acc: 0.80 - ETA: 19s - loss: 0.6280 - acc: 0.79 - ETA: 19s - loss: 0.6378 - acc: 0.79 - ETA: 18s - loss: 0.6425 - acc: 0.79 - ETA: 18s - loss: 0.6610 - acc: 0.79 - ETA: 18s - loss: 0.6648 - acc: 0.79 - ETA: 17s - loss: 0.6645 - acc: 0.79 - ETA: 17s - loss: 0.6692 - acc: 0.78 - ETA: 16s - loss: 0.6672 - acc: 0.78 - ETA: 16s - loss: 0.6705 - acc: 0.78 - ETA: 16s - loss: 0.6739 - acc: 0.78 - ETA: 15s - loss: 0.6716 - acc: 0.78 - ETA: 15s - loss: 0.6736 - acc: 0.78 - ETA: 15s - loss: 0.6785 - acc: 0.78 - ETA: 14s - loss: 0.6705 - acc: 0.78 - ETA: 14s - loss: 0.6646 - acc: 0.78 - ETA: 14s - loss: 0.6649 - acc: 0.78 - ETA: 13s - loss: 0.6649 - acc: 0.78 - ETA: 13s - loss: 0.6653 - acc: 0.78 - ETA: 12s - loss: 0.6707 - acc: 0.78 - ETA: 12s - loss: 0.6662 - acc: 0.78 - ETA: 12s - loss: 0.6720 - acc: 0.78 - ETA: 11s - loss: 0.6799 - acc: 0.78 - ETA: 11s - loss: 0.7037 - acc: 0.77 - ETA: 11s - loss: 0.7112 - acc: 0.77 - ETA: 10s - loss: 0.7182 - acc: 0.77 - ETA: 10s - loss: 0.7138 - acc: 0.77 - ETA: 10s - loss: 0.7122 - acc: 0.77 - ETA: 10s - loss: 0.7211 - acc: 0.76 - ETA: 10s - loss: 0.7312 - acc: 0.76 - ETA: 9s - loss: 0.7338 - acc: 0.7652 - ETA: 9s - loss: 0.7475 - acc: 0.765 - ETA: 8s - loss: 0.7485 - acc: 0.764 - ETA: 8s - loss: 0.7630 - acc: 0.761 - ETA: 8s - loss: 0.7677 - acc: 0.759 - ETA: 7s - loss: 0.7673 - acc: 0.759 - ETA: 7s - loss: 0.7740 - acc: 0.757 - ETA: 6s - loss: 0.7696 - acc: 0.759 - ETA: 6s - loss: 0.7705 - acc: 0.759 - ETA: 5s - loss: 0.7668 - acc: 0.760 - ETA: 5s - loss: 0.7613 - acc: 0.762 - ETA: 4s - loss: 0.7597 - acc: 0.762 - ETA: 4s - loss: 0.7576 - acc: 0.763 - ETA: 4s - loss: 0.7584 - acc: 0.763 - ETA: 3s - loss: 0.7577 - acc: 0.764 - ETA: 3s - loss: 0.7566 - acc: 0.763 - ETA: 2s - loss: 0.7590 - acc: 0.763 - ETA: 2s - loss: 0.7586 - acc: 0.763 - ETA: 1s - loss: 0.7571 - acc: 0.763 - ETA: 1s - loss: 0.7539 - acc: 0.764 - ETA: 0s - loss: 0.7526 - acc: 0.765 - ETA: 0s - loss: 0.7587 - acc: 0.763 - 44s 15ms/sample - loss: 0.7633 - acc: 0.7627\n"
     ]
    }
   ],
   "source": [
    "test_loss = model.evaluate(test_images, test_labels)"
   ]
  },
  {
   "cell_type": "code",
   "execution_count": 25,
   "metadata": {},
   "outputs": [
    {
     "name": "stdout",
     "output_type": "stream",
     "text": [
      "[0.7632892011801402, 0.76266664]\n"
     ]
    }
   ],
   "source": [
    "print(test_loss)"
   ]
  },
  {
   "cell_type": "code",
   "execution_count": 26,
   "metadata": {},
   "outputs": [],
   "source": [
    "predictions = model.predict(test_images)\n",
    "pred_labels = np.argmax(predictions, axis = 1)"
   ]
  },
  {
   "cell_type": "code",
   "execution_count": 30,
   "metadata": {},
   "outputs": [
    {
     "data": {
      "image/png": "[encoded data removed]",
      "text/plain": [
       "<Figure size 432x288 with 2 Axes>"
      ]
     },
     "metadata": {
      "needs_background": "light"
     },
     "output_type": "display_data"
    }
   ],
   "source": [
    "CM = confusion_matrix(test_labels, pred_labels)\n",
    "ax = plt.axes()\n",
    "sn.heatmap(CM, annot=True, \n",
    "           annot_kws={\"size\": 10}, \n",
    "           xticklabels=class_names, \n",
    "           yticklabels=class_names, ax = ax)\n",
    "ax.set_title('Confusion matrix')\n",
    "plt.show()\n"
   ]
  },
  {
   "cell_type": "code",
   "execution_count": 56,
   "metadata": {},
   "outputs": [],
   "source": [
    "from tensorflow.keras.applications.inception_v3 import InceptionV3\n",
    "from tensorflow.keras import layers\n",
    "from tensorflow.keras import Model\n",
    "from tensorflow.keras.optimizers import RMSprop\n"
   ]
  },
  {
   "cell_type": "code",
   "execution_count": 48,
   "metadata": {},
   "outputs": [],
   "source": [
    "inception_weight_file=r\"F:\\pretrained\\inception_v3_weights_tf_dim_ordering_tf_kernels_notop_1.h5\"\n",
    "\n",
    "pre_trained_inception=InceptionV3(input_shape=(150,150,3),\n",
    "                                  include_top=False,\n",
    "                                  weights=None)\n",
    "pre_trained_inception.load_weights(inception_weight_file)"
   ]
  },
  {
   "cell_type": "code",
   "execution_count": 49,
   "metadata": {},
   "outputs": [],
   "source": [
    "for layers in pre_trained_inception.layers:\n",
    "    layers.trainable=False"
   ]
  },
  {
   "cell_type": "code",
   "execution_count": 50,
   "metadata": {},
   "outputs": [
    {
     "name": "stdout",
     "output_type": "stream",
     "text": [
      "Model: \"inception_v3\"\n",
      "__________________________________________________________________________________________________\n",
      "Layer (type)                    Output Shape         Param #     Connected to                     \n",
      "==================================================================================================\n",
      "input_2 (InputLayer)            [(None, 150, 150, 3) 0                                            \n",
      "__________________________________________________________________________________________________\n",
      "conv2d_100 (Conv2D)             (None, 74, 74, 32)   864         input_2[0][0]                    \n",
      "__________________________________________________________________________________________________\n",
      "batch_normalization_94 (BatchNo (None, 74, 74, 32)   96          conv2d_100[0][0]                 \n",
      "__________________________________________________________________________________________________\n",
      "activation_94 (Activation)      (None, 74, 74, 32)   0           batch_normalization_94[0][0]     \n",
      "__________________________________________________________________________________________________\n",
      "conv2d_101 (Conv2D)             (None, 72, 72, 32)   9216        activation_94[0][0]              \n",
      "__________________________________________________________________________________________________\n",
      "batch_normalization_95 (BatchNo (None, 72, 72, 32)   96          conv2d_101[0][0]                 \n",
      "__________________________________________________________________________________________________\n",
      "activation_95 (Activation)      (None, 72, 72, 32)   0           batch_normalization_95[0][0]     \n",
      "__________________________________________________________________________________________________\n",
      "conv2d_102 (Conv2D)             (None, 72, 72, 64)   18432       activation_95[0][0]              \n",
      "__________________________________________________________________________________________________\n",
      "batch_normalization_96 (BatchNo (None, 72, 72, 64)   192         conv2d_102[0][0]                 \n",
      "__________________________________________________________________________________________________\n",
      "activation_96 (Activation)      (None, 72, 72, 64)   0           batch_normalization_96[0][0]     \n",
      "__________________________________________________________________________________________________\n",
      "max_pooling2d_10 (MaxPooling2D) (None, 35, 35, 64)   0           activation_96[0][0]              \n",
      "__________________________________________________________________________________________________\n",
      "conv2d_103 (Conv2D)             (None, 35, 35, 80)   5120        max_pooling2d_10[0][0]           \n",
      "__________________________________________________________________________________________________\n",
      "batch_normalization_97 (BatchNo (None, 35, 35, 80)   240         conv2d_103[0][0]                 \n",
      "__________________________________________________________________________________________________\n",
      "activation_97 (Activation)      (None, 35, 35, 80)   0           batch_normalization_97[0][0]     \n",
      "__________________________________________________________________________________________________\n",
      "conv2d_104 (Conv2D)             (None, 33, 33, 192)  138240      activation_97[0][0]              \n",
      "__________________________________________________________________________________________________\n",
      "batch_normalization_98 (BatchNo (None, 33, 33, 192)  576         conv2d_104[0][0]                 \n",
      "__________________________________________________________________________________________________\n",
      "activation_98 (Activation)      (None, 33, 33, 192)  0           batch_normalization_98[0][0]     \n",
      "__________________________________________________________________________________________________\n",
      "max_pooling2d_11 (MaxPooling2D) (None, 16, 16, 192)  0           activation_98[0][0]              \n",
      "__________________________________________________________________________________________________\n",
      "conv2d_108 (Conv2D)             (None, 16, 16, 64)   12288       max_pooling2d_11[0][0]           \n",
      "__________________________________________________________________________________________________\n",
      "batch_normalization_102 (BatchN (None, 16, 16, 64)   192         conv2d_108[0][0]                 \n",
      "__________________________________________________________________________________________________\n",
      "activation_102 (Activation)     (None, 16, 16, 64)   0           batch_normalization_102[0][0]    \n",
      "__________________________________________________________________________________________________\n",
      "conv2d_106 (Conv2D)             (None, 16, 16, 48)   9216        max_pooling2d_11[0][0]           \n",
      "__________________________________________________________________________________________________\n",
      "conv2d_109 (Conv2D)             (None, 16, 16, 96)   55296       activation_102[0][0]             \n",
      "__________________________________________________________________________________________________\n",
      "batch_normalization_100 (BatchN (None, 16, 16, 48)   144         conv2d_106[0][0]                 \n",
      "__________________________________________________________________________________________________\n",
      "batch_normalization_103 (BatchN (None, 16, 16, 96)   288         conv2d_109[0][0]                 \n",
      "__________________________________________________________________________________________________\n",
      "activation_100 (Activation)     (None, 16, 16, 48)   0           batch_normalization_100[0][0]    \n",
      "__________________________________________________________________________________________________\n",
      "activation_103 (Activation)     (None, 16, 16, 96)   0           batch_normalization_103[0][0]    \n",
      "__________________________________________________________________________________________________\n",
      "average_pooling2d_9 (AveragePoo (None, 16, 16, 192)  0           max_pooling2d_11[0][0]           \n",
      "__________________________________________________________________________________________________\n",
      "conv2d_105 (Conv2D)             (None, 16, 16, 64)   12288       max_pooling2d_11[0][0]           \n",
      "__________________________________________________________________________________________________\n",
      "conv2d_107 (Conv2D)             (None, 16, 16, 64)   76800       activation_100[0][0]             \n",
      "__________________________________________________________________________________________________\n",
      "conv2d_110 (Conv2D)             (None, 16, 16, 96)   82944       activation_103[0][0]             \n",
      "__________________________________________________________________________________________________\n",
      "conv2d_111 (Conv2D)             (None, 16, 16, 32)   6144        average_pooling2d_9[0][0]        \n",
      "__________________________________________________________________________________________________\n",
      "batch_normalization_99 (BatchNo (None, 16, 16, 64)   192         conv2d_105[0][0]                 \n",
      "__________________________________________________________________________________________________\n",
      "batch_normalization_101 (BatchN (None, 16, 16, 64)   192         conv2d_107[0][0]                 \n",
      "__________________________________________________________________________________________________\n",
      "batch_normalization_104 (BatchN (None, 16, 16, 96)   288         conv2d_110[0][0]                 \n",
      "__________________________________________________________________________________________________\n",
      "batch_normalization_105 (BatchN (None, 16, 16, 32)   96          conv2d_111[0][0]                 \n",
      "__________________________________________________________________________________________________\n",
      "activation_99 (Activation)      (None, 16, 16, 64)   0           batch_normalization_99[0][0]     \n",
      "__________________________________________________________________________________________________\n",
      "activation_101 (Activation)     (None, 16, 16, 64)   0           batch_normalization_101[0][0]    \n",
      "__________________________________________________________________________________________________\n",
      "activation_104 (Activation)     (None, 16, 16, 96)   0           batch_normalization_104[0][0]    \n",
      "__________________________________________________________________________________________________\n",
      "activation_105 (Activation)     (None, 16, 16, 32)   0           batch_normalization_105[0][0]    \n",
      "__________________________________________________________________________________________________\n",
      "mixed0 (Concatenate)            (None, 16, 16, 256)  0           activation_99[0][0]              \n",
      "                                                                 activation_101[0][0]             \n",
      "                                                                 activation_104[0][0]             \n",
      "                                                                 activation_105[0][0]             \n",
      "__________________________________________________________________________________________________\n",
      "conv2d_115 (Conv2D)             (None, 16, 16, 64)   16384       mixed0[0][0]                     \n",
      "__________________________________________________________________________________________________\n",
      "batch_normalization_109 (BatchN (None, 16, 16, 64)   192         conv2d_115[0][0]                 \n",
      "__________________________________________________________________________________________________\n",
      "activation_109 (Activation)     (None, 16, 16, 64)   0           batch_normalization_109[0][0]    \n",
      "__________________________________________________________________________________________________\n",
      "conv2d_113 (Conv2D)             (None, 16, 16, 48)   12288       mixed0[0][0]                     \n",
      "__________________________________________________________________________________________________\n",
      "conv2d_116 (Conv2D)             (None, 16, 16, 96)   55296       activation_109[0][0]             \n",
      "__________________________________________________________________________________________________\n",
      "batch_normalization_107 (BatchN (None, 16, 16, 48)   144         conv2d_113[0][0]                 \n",
      "__________________________________________________________________________________________________\n",
      "batch_normalization_110 (BatchN (None, 16, 16, 96)   288         conv2d_116[0][0]                 \n",
      "__________________________________________________________________________________________________\n",
      "activation_107 (Activation)     (None, 16, 16, 48)   0           batch_normalization_107[0][0]    \n",
      "__________________________________________________________________________________________________\n",
      "activation_110 (Activation)     (None, 16, 16, 96)   0           batch_normalization_110[0][0]    \n",
      "__________________________________________________________________________________________________\n",
      "average_pooling2d_10 (AveragePo (None, 16, 16, 256)  0           mixed0[0][0]                     \n",
      "__________________________________________________________________________________________________\n",
      "conv2d_112 (Conv2D)             (None, 16, 16, 64)   16384       mixed0[0][0]                     \n",
      "__________________________________________________________________________________________________\n",
      "conv2d_114 (Conv2D)             (None, 16, 16, 64)   76800       activation_107[0][0]             \n",
      "__________________________________________________________________________________________________\n",
      "conv2d_117 (Conv2D)             (None, 16, 16, 96)   82944       activation_110[0][0]             \n",
      "__________________________________________________________________________________________________\n",
      "conv2d_118 (Conv2D)             (None, 16, 16, 64)   16384       average_pooling2d_10[0][0]       \n",
      "__________________________________________________________________________________________________\n",
      "batch_normalization_106 (BatchN (None, 16, 16, 64)   192         conv2d_112[0][0]                 \n",
      "__________________________________________________________________________________________________\n",
      "batch_normalization_108 (BatchN (None, 16, 16, 64)   192         conv2d_114[0][0]                 \n",
      "__________________________________________________________________________________________________\n",
      "batch_normalization_111 (BatchN (None, 16, 16, 96)   288         conv2d_117[0][0]                 \n",
      "__________________________________________________________________________________________________\n",
      "batch_normalization_112 (BatchN (None, 16, 16, 64)   192         conv2d_118[0][0]                 \n",
      "__________________________________________________________________________________________________\n",
      "activation_106 (Activation)     (None, 16, 16, 64)   0           batch_normalization_106[0][0]    \n",
      "__________________________________________________________________________________________________\n",
      "activation_108 (Activation)     (None, 16, 16, 64)   0           batch_normalization_108[0][0]    \n",
      "__________________________________________________________________________________________________\n",
      "activation_111 (Activation)     (None, 16, 16, 96)   0           batch_normalization_111[0][0]    \n",
      "__________________________________________________________________________________________________\n",
      "activation_112 (Activation)     (None, 16, 16, 64)   0           batch_normalization_112[0][0]    \n",
      "__________________________________________________________________________________________________\n",
      "mixed1 (Concatenate)            (None, 16, 16, 288)  0           activation_106[0][0]             \n",
      "                                                                 activation_108[0][0]             \n",
      "                                                                 activation_111[0][0]             \n",
      "                                                                 activation_112[0][0]             \n",
      "__________________________________________________________________________________________________\n",
      "conv2d_122 (Conv2D)             (None, 16, 16, 64)   18432       mixed1[0][0]                     \n",
      "__________________________________________________________________________________________________\n",
      "batch_normalization_116 (BatchN (None, 16, 16, 64)   192         conv2d_122[0][0]                 \n",
      "__________________________________________________________________________________________________\n",
      "activation_116 (Activation)     (None, 16, 16, 64)   0           batch_normalization_116[0][0]    \n",
      "__________________________________________________________________________________________________\n",
      "conv2d_120 (Conv2D)             (None, 16, 16, 48)   13824       mixed1[0][0]                     \n",
      "__________________________________________________________________________________________________\n",
      "conv2d_123 (Conv2D)             (None, 16, 16, 96)   55296       activation_116[0][0]             \n",
      "__________________________________________________________________________________________________\n",
      "batch_normalization_114 (BatchN (None, 16, 16, 48)   144         conv2d_120[0][0]                 \n",
      "__________________________________________________________________________________________________\n",
      "batch_normalization_117 (BatchN (None, 16, 16, 96)   288         conv2d_123[0][0]                 \n",
      "__________________________________________________________________________________________________\n",
      "activation_114 (Activation)     (None, 16, 16, 48)   0           batch_normalization_114[0][0]    \n",
      "__________________________________________________________________________________________________\n",
      "activation_117 (Activation)     (None, 16, 16, 96)   0           batch_normalization_117[0][0]    \n",
      "__________________________________________________________________________________________________\n",
      "average_pooling2d_11 (AveragePo (None, 16, 16, 288)  0           mixed1[0][0]                     \n",
      "__________________________________________________________________________________________________\n",
      "conv2d_119 (Conv2D)             (None, 16, 16, 64)   18432       mixed1[0][0]                     \n",
      "__________________________________________________________________________________________________\n",
      "conv2d_121 (Conv2D)             (None, 16, 16, 64)   76800       activation_114[0][0]             \n",
      "__________________________________________________________________________________________________\n",
      "conv2d_124 (Conv2D)             (None, 16, 16, 96)   82944       activation_117[0][0]             \n",
      "__________________________________________________________________________________________________\n",
      "conv2d_125 (Conv2D)             (None, 16, 16, 64)   18432       average_pooling2d_11[0][0]       \n",
      "__________________________________________________________________________________________________\n",
      "batch_normalization_113 (BatchN (None, 16, 16, 64)   192         conv2d_119[0][0]                 \n",
      "__________________________________________________________________________________________________\n",
      "batch_normalization_115 (BatchN (None, 16, 16, 64)   192         conv2d_121[0][0]                 \n",
      "__________________________________________________________________________________________________\n",
      "batch_normalization_118 (BatchN (None, 16, 16, 96)   288         conv2d_124[0][0]                 \n",
      "__________________________________________________________________________________________________\n",
      "batch_normalization_119 (BatchN (None, 16, 16, 64)   192         conv2d_125[0][0]                 \n",
      "__________________________________________________________________________________________________\n",
      "activation_113 (Activation)     (None, 16, 16, 64)   0           batch_normalization_113[0][0]    \n",
      "__________________________________________________________________________________________________\n",
      "activation_115 (Activation)     (None, 16, 16, 64)   0           batch_normalization_115[0][0]    \n",
      "__________________________________________________________________________________________________\n",
      "activation_118 (Activation)     (None, 16, 16, 96)   0           batch_normalization_118[0][0]    \n",
      "__________________________________________________________________________________________________\n",
      "activation_119 (Activation)     (None, 16, 16, 64)   0           batch_normalization_119[0][0]    \n",
      "__________________________________________________________________________________________________\n",
      "mixed2 (Concatenate)            (None, 16, 16, 288)  0           activation_113[0][0]             \n",
      "                                                                 activation_115[0][0]             \n",
      "                                                                 activation_118[0][0]             \n",
      "                                                                 activation_119[0][0]             \n",
      "__________________________________________________________________________________________________\n",
      "conv2d_127 (Conv2D)             (None, 16, 16, 64)   18432       mixed2[0][0]                     \n",
      "__________________________________________________________________________________________________\n",
      "batch_normalization_121 (BatchN (None, 16, 16, 64)   192         conv2d_127[0][0]                 \n",
      "__________________________________________________________________________________________________\n",
      "activation_121 (Activation)     (None, 16, 16, 64)   0           batch_normalization_121[0][0]    \n",
      "__________________________________________________________________________________________________\n",
      "conv2d_128 (Conv2D)             (None, 16, 16, 96)   55296       activation_121[0][0]             \n",
      "__________________________________________________________________________________________________\n",
      "batch_normalization_122 (BatchN (None, 16, 16, 96)   288         conv2d_128[0][0]                 \n",
      "__________________________________________________________________________________________________\n",
      "activation_122 (Activation)     (None, 16, 16, 96)   0           batch_normalization_122[0][0]    \n",
      "__________________________________________________________________________________________________\n",
      "conv2d_126 (Conv2D)             (None, 7, 7, 384)    995328      mixed2[0][0]                     \n",
      "__________________________________________________________________________________________________\n",
      "conv2d_129 (Conv2D)             (None, 7, 7, 96)     82944       activation_122[0][0]             \n",
      "__________________________________________________________________________________________________\n",
      "batch_normalization_120 (BatchN (None, 7, 7, 384)    1152        conv2d_126[0][0]                 \n",
      "__________________________________________________________________________________________________\n",
      "batch_normalization_123 (BatchN (None, 7, 7, 96)     288         conv2d_129[0][0]                 \n",
      "__________________________________________________________________________________________________\n",
      "activation_120 (Activation)     (None, 7, 7, 384)    0           batch_normalization_120[0][0]    \n",
      "__________________________________________________________________________________________________\n",
      "activation_123 (Activation)     (None, 7, 7, 96)     0           batch_normalization_123[0][0]    \n",
      "__________________________________________________________________________________________________\n",
      "max_pooling2d_12 (MaxPooling2D) (None, 7, 7, 288)    0           mixed2[0][0]                     \n",
      "__________________________________________________________________________________________________\n",
      "mixed3 (Concatenate)            (None, 7, 7, 768)    0           activation_120[0][0]             \n",
      "                                                                 activation_123[0][0]             \n",
      "                                                                 max_pooling2d_12[0][0]           \n",
      "__________________________________________________________________________________________________\n",
      "conv2d_134 (Conv2D)             (None, 7, 7, 128)    98304       mixed3[0][0]                     \n",
      "__________________________________________________________________________________________________\n",
      "batch_normalization_128 (BatchN (None, 7, 7, 128)    384         conv2d_134[0][0]                 \n",
      "__________________________________________________________________________________________________\n",
      "activation_128 (Activation)     (None, 7, 7, 128)    0           batch_normalization_128[0][0]    \n",
      "__________________________________________________________________________________________________\n",
      "conv2d_135 (Conv2D)             (None, 7, 7, 128)    114688      activation_128[0][0]             \n",
      "__________________________________________________________________________________________________\n",
      "batch_normalization_129 (BatchN (None, 7, 7, 128)    384         conv2d_135[0][0]                 \n",
      "__________________________________________________________________________________________________\n",
      "activation_129 (Activation)     (None, 7, 7, 128)    0           batch_normalization_129[0][0]    \n",
      "__________________________________________________________________________________________________\n",
      "conv2d_131 (Conv2D)             (None, 7, 7, 128)    98304       mixed3[0][0]                     \n",
      "__________________________________________________________________________________________________\n",
      "conv2d_136 (Conv2D)             (None, 7, 7, 128)    114688      activation_129[0][0]             \n",
      "__________________________________________________________________________________________________\n",
      "batch_normalization_125 (BatchN (None, 7, 7, 128)    384         conv2d_131[0][0]                 \n",
      "__________________________________________________________________________________________________\n",
      "batch_normalization_130 (BatchN (None, 7, 7, 128)    384         conv2d_136[0][0]                 \n",
      "__________________________________________________________________________________________________\n",
      "activation_125 (Activation)     (None, 7, 7, 128)    0           batch_normalization_125[0][0]    \n",
      "__________________________________________________________________________________________________\n",
      "activation_130 (Activation)     (None, 7, 7, 128)    0           batch_normalization_130[0][0]    \n",
      "__________________________________________________________________________________________________\n",
      "conv2d_132 (Conv2D)             (None, 7, 7, 128)    114688      activation_125[0][0]             \n",
      "__________________________________________________________________________________________________\n",
      "conv2d_137 (Conv2D)             (None, 7, 7, 128)    114688      activation_130[0][0]             \n",
      "__________________________________________________________________________________________________\n",
      "batch_normalization_126 (BatchN (None, 7, 7, 128)    384         conv2d_132[0][0]                 \n",
      "__________________________________________________________________________________________________\n",
      "batch_normalization_131 (BatchN (None, 7, 7, 128)    384         conv2d_137[0][0]                 \n",
      "__________________________________________________________________________________________________\n",
      "activation_126 (Activation)     (None, 7, 7, 128)    0           batch_normalization_126[0][0]    \n",
      "__________________________________________________________________________________________________\n",
      "activation_131 (Activation)     (None, 7, 7, 128)    0           batch_normalization_131[0][0]    \n",
      "__________________________________________________________________________________________________\n",
      "average_pooling2d_12 (AveragePo (None, 7, 7, 768)    0           mixed3[0][0]                     \n",
      "__________________________________________________________________________________________________\n",
      "conv2d_130 (Conv2D)             (None, 7, 7, 192)    147456      mixed3[0][0]                     \n",
      "__________________________________________________________________________________________________\n",
      "conv2d_133 (Conv2D)             (None, 7, 7, 192)    172032      activation_126[0][0]             \n",
      "__________________________________________________________________________________________________\n",
      "conv2d_138 (Conv2D)             (None, 7, 7, 192)    172032      activation_131[0][0]             \n",
      "__________________________________________________________________________________________________\n",
      "conv2d_139 (Conv2D)             (None, 7, 7, 192)    147456      average_pooling2d_12[0][0]       \n",
      "__________________________________________________________________________________________________\n",
      "batch_normalization_124 (BatchN (None, 7, 7, 192)    576         conv2d_130[0][0]                 \n",
      "__________________________________________________________________________________________________\n",
      "batch_normalization_127 (BatchN (None, 7, 7, 192)    576         conv2d_133[0][0]                 \n",
      "__________________________________________________________________________________________________\n",
      "batch_normalization_132 (BatchN (None, 7, 7, 192)    576         conv2d_138[0][0]                 \n",
      "__________________________________________________________________________________________________\n",
      "batch_normalization_133 (BatchN (None, 7, 7, 192)    576         conv2d_139[0][0]                 \n",
      "__________________________________________________________________________________________________\n",
      "activation_124 (Activation)     (None, 7, 7, 192)    0           batch_normalization_124[0][0]    \n",
      "__________________________________________________________________________________________________\n",
      "activation_127 (Activation)     (None, 7, 7, 192)    0           batch_normalization_127[0][0]    \n",
      "__________________________________________________________________________________________________\n",
      "activation_132 (Activation)     (None, 7, 7, 192)    0           batch_normalization_132[0][0]    \n",
      "__________________________________________________________________________________________________\n",
      "activation_133 (Activation)     (None, 7, 7, 192)    0           batch_normalization_133[0][0]    \n",
      "__________________________________________________________________________________________________\n",
      "mixed4 (Concatenate)            (None, 7, 7, 768)    0           activation_124[0][0]             \n",
      "                                                                 activation_127[0][0]             \n",
      "                                                                 activation_132[0][0]             \n",
      "                                                                 activation_133[0][0]             \n",
      "__________________________________________________________________________________________________\n",
      "conv2d_144 (Conv2D)             (None, 7, 7, 160)    122880      mixed4[0][0]                     \n",
      "__________________________________________________________________________________________________\n",
      "batch_normalization_138 (BatchN (None, 7, 7, 160)    480         conv2d_144[0][0]                 \n",
      "__________________________________________________________________________________________________\n",
      "activation_138 (Activation)     (None, 7, 7, 160)    0           batch_normalization_138[0][0]    \n",
      "__________________________________________________________________________________________________\n",
      "conv2d_145 (Conv2D)             (None, 7, 7, 160)    179200      activation_138[0][0]             \n",
      "__________________________________________________________________________________________________\n",
      "batch_normalization_139 (BatchN (None, 7, 7, 160)    480         conv2d_145[0][0]                 \n",
      "__________________________________________________________________________________________________\n",
      "activation_139 (Activation)     (None, 7, 7, 160)    0           batch_normalization_139[0][0]    \n",
      "__________________________________________________________________________________________________\n",
      "conv2d_141 (Conv2D)             (None, 7, 7, 160)    122880      mixed4[0][0]                     \n",
      "__________________________________________________________________________________________________\n",
      "conv2d_146 (Conv2D)             (None, 7, 7, 160)    179200      activation_139[0][0]             \n",
      "__________________________________________________________________________________________________\n",
      "batch_normalization_135 (BatchN (None, 7, 7, 160)    480         conv2d_141[0][0]                 \n",
      "__________________________________________________________________________________________________\n",
      "batch_normalization_140 (BatchN (None, 7, 7, 160)    480         conv2d_146[0][0]                 \n",
      "__________________________________________________________________________________________________\n",
      "activation_135 (Activation)     (None, 7, 7, 160)    0           batch_normalization_135[0][0]    \n",
      "__________________________________________________________________________________________________\n",
      "activation_140 (Activation)     (None, 7, 7, 160)    0           batch_normalization_140[0][0]    \n",
      "__________________________________________________________________________________________________\n",
      "conv2d_142 (Conv2D)             (None, 7, 7, 160)    179200      activation_135[0][0]             \n",
      "__________________________________________________________________________________________________\n",
      "conv2d_147 (Conv2D)             (None, 7, 7, 160)    179200      activation_140[0][0]             \n",
      "__________________________________________________________________________________________________\n",
      "batch_normalization_136 (BatchN (None, 7, 7, 160)    480         conv2d_142[0][0]                 \n",
      "__________________________________________________________________________________________________\n",
      "batch_normalization_141 (BatchN (None, 7, 7, 160)    480         conv2d_147[0][0]                 \n",
      "__________________________________________________________________________________________________\n",
      "activation_136 (Activation)     (None, 7, 7, 160)    0           batch_normalization_136[0][0]    \n",
      "__________________________________________________________________________________________________\n",
      "activation_141 (Activation)     (None, 7, 7, 160)    0           batch_normalization_141[0][0]    \n",
      "__________________________________________________________________________________________________\n",
      "average_pooling2d_13 (AveragePo (None, 7, 7, 768)    0           mixed4[0][0]                     \n",
      "__________________________________________________________________________________________________\n",
      "conv2d_140 (Conv2D)             (None, 7, 7, 192)    147456      mixed4[0][0]                     \n",
      "__________________________________________________________________________________________________\n",
      "conv2d_143 (Conv2D)             (None, 7, 7, 192)    215040      activation_136[0][0]             \n",
      "__________________________________________________________________________________________________\n",
      "conv2d_148 (Conv2D)             (None, 7, 7, 192)    215040      activation_141[0][0]             \n",
      "__________________________________________________________________________________________________\n",
      "conv2d_149 (Conv2D)             (None, 7, 7, 192)    147456      average_pooling2d_13[0][0]       \n",
      "__________________________________________________________________________________________________\n",
      "batch_normalization_134 (BatchN (None, 7, 7, 192)    576         conv2d_140[0][0]                 \n",
      "__________________________________________________________________________________________________\n",
      "batch_normalization_137 (BatchN (None, 7, 7, 192)    576         conv2d_143[0][0]                 \n",
      "__________________________________________________________________________________________________\n",
      "batch_normalization_142 (BatchN (None, 7, 7, 192)    576         conv2d_148[0][0]                 \n",
      "__________________________________________________________________________________________________\n",
      "batch_normalization_143 (BatchN (None, 7, 7, 192)    576         conv2d_149[0][0]                 \n",
      "__________________________________________________________________________________________________\n",
      "activation_134 (Activation)     (None, 7, 7, 192)    0           batch_normalization_134[0][0]    \n",
      "__________________________________________________________________________________________________\n",
      "activation_137 (Activation)     (None, 7, 7, 192)    0           batch_normalization_137[0][0]    \n",
      "__________________________________________________________________________________________________\n",
      "activation_142 (Activation)     (None, 7, 7, 192)    0           batch_normalization_142[0][0]    \n",
      "__________________________________________________________________________________________________\n",
      "activation_143 (Activation)     (None, 7, 7, 192)    0           batch_normalization_143[0][0]    \n",
      "__________________________________________________________________________________________________\n",
      "mixed5 (Concatenate)            (None, 7, 7, 768)    0           activation_134[0][0]             \n",
      "                                                                 activation_137[0][0]             \n",
      "                                                                 activation_142[0][0]             \n",
      "                                                                 activation_143[0][0]             \n",
      "__________________________________________________________________________________________________\n",
      "conv2d_154 (Conv2D)             (None, 7, 7, 160)    122880      mixed5[0][0]                     \n",
      "__________________________________________________________________________________________________\n",
      "batch_normalization_148 (BatchN (None, 7, 7, 160)    480         conv2d_154[0][0]                 \n",
      "__________________________________________________________________________________________________\n",
      "activation_148 (Activation)     (None, 7, 7, 160)    0           batch_normalization_148[0][0]    \n",
      "__________________________________________________________________________________________________\n",
      "conv2d_155 (Conv2D)             (None, 7, 7, 160)    179200      activation_148[0][0]             \n",
      "__________________________________________________________________________________________________\n",
      "batch_normalization_149 (BatchN (None, 7, 7, 160)    480         conv2d_155[0][0]                 \n",
      "__________________________________________________________________________________________________\n",
      "activation_149 (Activation)     (None, 7, 7, 160)    0           batch_normalization_149[0][0]    \n",
      "__________________________________________________________________________________________________\n",
      "conv2d_151 (Conv2D)             (None, 7, 7, 160)    122880      mixed5[0][0]                     \n",
      "__________________________________________________________________________________________________\n",
      "conv2d_156 (Conv2D)             (None, 7, 7, 160)    179200      activation_149[0][0]             \n",
      "__________________________________________________________________________________________________\n",
      "batch_normalization_145 (BatchN (None, 7, 7, 160)    480         conv2d_151[0][0]                 \n",
      "__________________________________________________________________________________________________\n",
      "batch_normalization_150 (BatchN (None, 7, 7, 160)    480         conv2d_156[0][0]                 \n",
      "__________________________________________________________________________________________________\n",
      "activation_145 (Activation)     (None, 7, 7, 160)    0           batch_normalization_145[0][0]    \n",
      "__________________________________________________________________________________________________\n",
      "activation_150 (Activation)     (None, 7, 7, 160)    0           batch_normalization_150[0][0]    \n",
      "__________________________________________________________________________________________________\n",
      "conv2d_152 (Conv2D)             (None, 7, 7, 160)    179200      activation_145[0][0]             \n",
      "__________________________________________________________________________________________________\n",
      "conv2d_157 (Conv2D)             (None, 7, 7, 160)    179200      activation_150[0][0]             \n",
      "__________________________________________________________________________________________________\n",
      "batch_normalization_146 (BatchN (None, 7, 7, 160)    480         conv2d_152[0][0]                 \n",
      "__________________________________________________________________________________________________\n",
      "batch_normalization_151 (BatchN (None, 7, 7, 160)    480         conv2d_157[0][0]                 \n",
      "__________________________________________________________________________________________________\n",
      "activation_146 (Activation)     (None, 7, 7, 160)    0           batch_normalization_146[0][0]    \n",
      "__________________________________________________________________________________________________\n",
      "activation_151 (Activation)     (None, 7, 7, 160)    0           batch_normalization_151[0][0]    \n",
      "__________________________________________________________________________________________________\n",
      "average_pooling2d_14 (AveragePo (None, 7, 7, 768)    0           mixed5[0][0]                     \n",
      "__________________________________________________________________________________________________\n",
      "conv2d_150 (Conv2D)             (None, 7, 7, 192)    147456      mixed5[0][0]                     \n",
      "__________________________________________________________________________________________________\n",
      "conv2d_153 (Conv2D)             (None, 7, 7, 192)    215040      activation_146[0][0]             \n",
      "__________________________________________________________________________________________________\n",
      "conv2d_158 (Conv2D)             (None, 7, 7, 192)    215040      activation_151[0][0]             \n",
      "__________________________________________________________________________________________________\n",
      "conv2d_159 (Conv2D)             (None, 7, 7, 192)    147456      average_pooling2d_14[0][0]       \n",
      "__________________________________________________________________________________________________\n",
      "batch_normalization_144 (BatchN (None, 7, 7, 192)    576         conv2d_150[0][0]                 \n",
      "__________________________________________________________________________________________________\n",
      "batch_normalization_147 (BatchN (None, 7, 7, 192)    576         conv2d_153[0][0]                 \n",
      "__________________________________________________________________________________________________\n",
      "batch_normalization_152 (BatchN (None, 7, 7, 192)    576         conv2d_158[0][0]                 \n",
      "__________________________________________________________________________________________________\n",
      "batch_normalization_153 (BatchN (None, 7, 7, 192)    576         conv2d_159[0][0]                 \n",
      "__________________________________________________________________________________________________\n",
      "activation_144 (Activation)     (None, 7, 7, 192)    0           batch_normalization_144[0][0]    \n",
      "__________________________________________________________________________________________________\n",
      "activation_147 (Activation)     (None, 7, 7, 192)    0           batch_normalization_147[0][0]    \n",
      "__________________________________________________________________________________________________\n",
      "activation_152 (Activation)     (None, 7, 7, 192)    0           batch_normalization_152[0][0]    \n",
      "__________________________________________________________________________________________________\n",
      "activation_153 (Activation)     (None, 7, 7, 192)    0           batch_normalization_153[0][0]    \n",
      "__________________________________________________________________________________________________\n",
      "mixed6 (Concatenate)            (None, 7, 7, 768)    0           activation_144[0][0]             \n",
      "                                                                 activation_147[0][0]             \n",
      "                                                                 activation_152[0][0]             \n",
      "                                                                 activation_153[0][0]             \n",
      "__________________________________________________________________________________________________\n",
      "conv2d_164 (Conv2D)             (None, 7, 7, 192)    147456      mixed6[0][0]                     \n",
      "__________________________________________________________________________________________________\n",
      "batch_normalization_158 (BatchN (None, 7, 7, 192)    576         conv2d_164[0][0]                 \n",
      "__________________________________________________________________________________________________\n",
      "activation_158 (Activation)     (None, 7, 7, 192)    0           batch_normalization_158[0][0]    \n",
      "__________________________________________________________________________________________________\n",
      "conv2d_165 (Conv2D)             (None, 7, 7, 192)    258048      activation_158[0][0]             \n",
      "__________________________________________________________________________________________________\n",
      "batch_normalization_159 (BatchN (None, 7, 7, 192)    576         conv2d_165[0][0]                 \n",
      "__________________________________________________________________________________________________\n",
      "activation_159 (Activation)     (None, 7, 7, 192)    0           batch_normalization_159[0][0]    \n",
      "__________________________________________________________________________________________________\n",
      "conv2d_161 (Conv2D)             (None, 7, 7, 192)    147456      mixed6[0][0]                     \n",
      "__________________________________________________________________________________________________\n",
      "conv2d_166 (Conv2D)             (None, 7, 7, 192)    258048      activation_159[0][0]             \n",
      "__________________________________________________________________________________________________\n",
      "batch_normalization_155 (BatchN (None, 7, 7, 192)    576         conv2d_161[0][0]                 \n",
      "__________________________________________________________________________________________________\n",
      "batch_normalization_160 (BatchN (None, 7, 7, 192)    576         conv2d_166[0][0]                 \n",
      "__________________________________________________________________________________________________\n",
      "activation_155 (Activation)     (None, 7, 7, 192)    0           batch_normalization_155[0][0]    \n",
      "__________________________________________________________________________________________________\n",
      "activation_160 (Activation)     (None, 7, 7, 192)    0           batch_normalization_160[0][0]    \n",
      "__________________________________________________________________________________________________\n",
      "conv2d_162 (Conv2D)             (None, 7, 7, 192)    258048      activation_155[0][0]             \n",
      "__________________________________________________________________________________________________\n",
      "conv2d_167 (Conv2D)             (None, 7, 7, 192)    258048      activation_160[0][0]             \n",
      "__________________________________________________________________________________________________\n",
      "batch_normalization_156 (BatchN (None, 7, 7, 192)    576         conv2d_162[0][0]                 \n",
      "__________________________________________________________________________________________________\n",
      "batch_normalization_161 (BatchN (None, 7, 7, 192)    576         conv2d_167[0][0]                 \n",
      "__________________________________________________________________________________________________\n",
      "activation_156 (Activation)     (None, 7, 7, 192)    0           batch_normalization_156[0][0]    \n",
      "__________________________________________________________________________________________________\n",
      "activation_161 (Activation)     (None, 7, 7, 192)    0           batch_normalization_161[0][0]    \n",
      "__________________________________________________________________________________________________\n",
      "average_pooling2d_15 (AveragePo (None, 7, 7, 768)    0           mixed6[0][0]                     \n",
      "__________________________________________________________________________________________________\n",
      "conv2d_160 (Conv2D)             (None, 7, 7, 192)    147456      mixed6[0][0]                     \n",
      "__________________________________________________________________________________________________\n",
      "conv2d_163 (Conv2D)             (None, 7, 7, 192)    258048      activation_156[0][0]             \n",
      "__________________________________________________________________________________________________\n",
      "conv2d_168 (Conv2D)             (None, 7, 7, 192)    258048      activation_161[0][0]             \n",
      "__________________________________________________________________________________________________\n",
      "conv2d_169 (Conv2D)             (None, 7, 7, 192)    147456      average_pooling2d_15[0][0]       \n",
      "__________________________________________________________________________________________________\n",
      "batch_normalization_154 (BatchN (None, 7, 7, 192)    576         conv2d_160[0][0]                 \n",
      "__________________________________________________________________________________________________\n",
      "batch_normalization_157 (BatchN (None, 7, 7, 192)    576         conv2d_163[0][0]                 \n",
      "__________________________________________________________________________________________________\n",
      "batch_normalization_162 (BatchN (None, 7, 7, 192)    576         conv2d_168[0][0]                 \n",
      "__________________________________________________________________________________________________\n",
      "batch_normalization_163 (BatchN (None, 7, 7, 192)    576         conv2d_169[0][0]                 \n",
      "__________________________________________________________________________________________________\n",
      "activation_154 (Activation)     (None, 7, 7, 192)    0           batch_normalization_154[0][0]    \n",
      "__________________________________________________________________________________________________\n",
      "activation_157 (Activation)     (None, 7, 7, 192)    0           batch_normalization_157[0][0]    \n",
      "__________________________________________________________________________________________________\n",
      "activation_162 (Activation)     (None, 7, 7, 192)    0           batch_normalization_162[0][0]    \n",
      "__________________________________________________________________________________________________\n",
      "activation_163 (Activation)     (None, 7, 7, 192)    0           batch_normalization_163[0][0]    \n",
      "__________________________________________________________________________________________________\n",
      "mixed7 (Concatenate)            (None, 7, 7, 768)    0           activation_154[0][0]             \n",
      "                                                                 activation_157[0][0]             \n",
      "                                                                 activation_162[0][0]             \n",
      "                                                                 activation_163[0][0]             \n",
      "__________________________________________________________________________________________________\n",
      "conv2d_172 (Conv2D)             (None, 7, 7, 192)    147456      mixed7[0][0]                     \n",
      "__________________________________________________________________________________________________\n",
      "batch_normalization_166 (BatchN (None, 7, 7, 192)    576         conv2d_172[0][0]                 \n",
      "__________________________________________________________________________________________________\n",
      "activation_166 (Activation)     (None, 7, 7, 192)    0           batch_normalization_166[0][0]    \n",
      "__________________________________________________________________________________________________\n",
      "conv2d_173 (Conv2D)             (None, 7, 7, 192)    258048      activation_166[0][0]             \n",
      "__________________________________________________________________________________________________\n",
      "batch_normalization_167 (BatchN (None, 7, 7, 192)    576         conv2d_173[0][0]                 \n",
      "__________________________________________________________________________________________________\n",
      "activation_167 (Activation)     (None, 7, 7, 192)    0           batch_normalization_167[0][0]    \n",
      "__________________________________________________________________________________________________\n",
      "conv2d_170 (Conv2D)             (None, 7, 7, 192)    147456      mixed7[0][0]                     \n",
      "__________________________________________________________________________________________________\n",
      "conv2d_174 (Conv2D)             (None, 7, 7, 192)    258048      activation_167[0][0]             \n",
      "__________________________________________________________________________________________________\n",
      "batch_normalization_164 (BatchN (None, 7, 7, 192)    576         conv2d_170[0][0]                 \n",
      "__________________________________________________________________________________________________\n",
      "batch_normalization_168 (BatchN (None, 7, 7, 192)    576         conv2d_174[0][0]                 \n",
      "__________________________________________________________________________________________________\n",
      "activation_164 (Activation)     (None, 7, 7, 192)    0           batch_normalization_164[0][0]    \n",
      "__________________________________________________________________________________________________\n",
      "activation_168 (Activation)     (None, 7, 7, 192)    0           batch_normalization_168[0][0]    \n",
      "__________________________________________________________________________________________________\n",
      "conv2d_171 (Conv2D)             (None, 3, 3, 320)    552960      activation_164[0][0]             \n",
      "__________________________________________________________________________________________________\n",
      "conv2d_175 (Conv2D)             (None, 3, 3, 192)    331776      activation_168[0][0]             \n",
      "__________________________________________________________________________________________________\n",
      "batch_normalization_165 (BatchN (None, 3, 3, 320)    960         conv2d_171[0][0]                 \n",
      "__________________________________________________________________________________________________\n",
      "batch_normalization_169 (BatchN (None, 3, 3, 192)    576         conv2d_175[0][0]                 \n",
      "__________________________________________________________________________________________________\n",
      "activation_165 (Activation)     (None, 3, 3, 320)    0           batch_normalization_165[0][0]    \n",
      "__________________________________________________________________________________________________\n",
      "activation_169 (Activation)     (None, 3, 3, 192)    0           batch_normalization_169[0][0]    \n",
      "__________________________________________________________________________________________________\n",
      "max_pooling2d_13 (MaxPooling2D) (None, 3, 3, 768)    0           mixed7[0][0]                     \n",
      "__________________________________________________________________________________________________\n",
      "mixed8 (Concatenate)            (None, 3, 3, 1280)   0           activation_165[0][0]             \n",
      "                                                                 activation_169[0][0]             \n",
      "                                                                 max_pooling2d_13[0][0]           \n",
      "__________________________________________________________________________________________________\n",
      "conv2d_180 (Conv2D)             (None, 3, 3, 448)    573440      mixed8[0][0]                     \n",
      "__________________________________________________________________________________________________\n",
      "batch_normalization_174 (BatchN (None, 3, 3, 448)    1344        conv2d_180[0][0]                 \n",
      "__________________________________________________________________________________________________\n",
      "activation_174 (Activation)     (None, 3, 3, 448)    0           batch_normalization_174[0][0]    \n",
      "__________________________________________________________________________________________________\n",
      "conv2d_177 (Conv2D)             (None, 3, 3, 384)    491520      mixed8[0][0]                     \n",
      "__________________________________________________________________________________________________\n",
      "conv2d_181 (Conv2D)             (None, 3, 3, 384)    1548288     activation_174[0][0]             \n",
      "__________________________________________________________________________________________________\n",
      "batch_normalization_171 (BatchN (None, 3, 3, 384)    1152        conv2d_177[0][0]                 \n",
      "__________________________________________________________________________________________________\n",
      "batch_normalization_175 (BatchN (None, 3, 3, 384)    1152        conv2d_181[0][0]                 \n",
      "__________________________________________________________________________________________________\n",
      "activation_171 (Activation)     (None, 3, 3, 384)    0           batch_normalization_171[0][0]    \n",
      "__________________________________________________________________________________________________\n",
      "activation_175 (Activation)     (None, 3, 3, 384)    0           batch_normalization_175[0][0]    \n",
      "__________________________________________________________________________________________________\n",
      "conv2d_178 (Conv2D)             (None, 3, 3, 384)    442368      activation_171[0][0]             \n",
      "__________________________________________________________________________________________________\n",
      "conv2d_179 (Conv2D)             (None, 3, 3, 384)    442368      activation_171[0][0]             \n",
      "__________________________________________________________________________________________________\n",
      "conv2d_182 (Conv2D)             (None, 3, 3, 384)    442368      activation_175[0][0]             \n",
      "__________________________________________________________________________________________________\n",
      "conv2d_183 (Conv2D)             (None, 3, 3, 384)    442368      activation_175[0][0]             \n",
      "__________________________________________________________________________________________________\n",
      "average_pooling2d_16 (AveragePo (None, 3, 3, 1280)   0           mixed8[0][0]                     \n",
      "__________________________________________________________________________________________________\n",
      "conv2d_176 (Conv2D)             (None, 3, 3, 320)    409600      mixed8[0][0]                     \n",
      "__________________________________________________________________________________________________\n",
      "batch_normalization_172 (BatchN (None, 3, 3, 384)    1152        conv2d_178[0][0]                 \n",
      "__________________________________________________________________________________________________\n",
      "batch_normalization_173 (BatchN (None, 3, 3, 384)    1152        conv2d_179[0][0]                 \n",
      "__________________________________________________________________________________________________\n",
      "batch_normalization_176 (BatchN (None, 3, 3, 384)    1152        conv2d_182[0][0]                 \n",
      "__________________________________________________________________________________________________\n",
      "batch_normalization_177 (BatchN (None, 3, 3, 384)    1152        conv2d_183[0][0]                 \n",
      "__________________________________________________________________________________________________\n",
      "conv2d_184 (Conv2D)             (None, 3, 3, 192)    245760      average_pooling2d_16[0][0]       \n",
      "__________________________________________________________________________________________________\n",
      "batch_normalization_170 (BatchN (None, 3, 3, 320)    960         conv2d_176[0][0]                 \n",
      "__________________________________________________________________________________________________\n",
      "activation_172 (Activation)     (None, 3, 3, 384)    0           batch_normalization_172[0][0]    \n",
      "__________________________________________________________________________________________________\n",
      "activation_173 (Activation)     (None, 3, 3, 384)    0           batch_normalization_173[0][0]    \n",
      "__________________________________________________________________________________________________\n",
      "activation_176 (Activation)     (None, 3, 3, 384)    0           batch_normalization_176[0][0]    \n",
      "__________________________________________________________________________________________________\n",
      "activation_177 (Activation)     (None, 3, 3, 384)    0           batch_normalization_177[0][0]    \n",
      "__________________________________________________________________________________________________\n",
      "batch_normalization_178 (BatchN (None, 3, 3, 192)    576         conv2d_184[0][0]                 \n",
      "__________________________________________________________________________________________________\n",
      "activation_170 (Activation)     (None, 3, 3, 320)    0           batch_normalization_170[0][0]    \n",
      "__________________________________________________________________________________________________\n",
      "mixed9_0 (Concatenate)          (None, 3, 3, 768)    0           activation_172[0][0]             \n",
      "                                                                 activation_173[0][0]             \n",
      "__________________________________________________________________________________________________\n",
      "concatenate_2 (Concatenate)     (None, 3, 3, 768)    0           activation_176[0][0]             \n",
      "                                                                 activation_177[0][0]             \n",
      "__________________________________________________________________________________________________\n",
      "activation_178 (Activation)     (None, 3, 3, 192)    0           batch_normalization_178[0][0]    \n",
      "__________________________________________________________________________________________________\n",
      "mixed9 (Concatenate)            (None, 3, 3, 2048)   0           activation_170[0][0]             \n",
      "                                                                 mixed9_0[0][0]                   \n",
      "                                                                 concatenate_2[0][0]              \n",
      "                                                                 activation_178[0][0]             \n",
      "__________________________________________________________________________________________________\n",
      "conv2d_189 (Conv2D)             (None, 3, 3, 448)    917504      mixed9[0][0]                     \n",
      "__________________________________________________________________________________________________\n",
      "batch_normalization_183 (BatchN (None, 3, 3, 448)    1344        conv2d_189[0][0]                 \n",
      "__________________________________________________________________________________________________\n",
      "activation_183 (Activation)     (None, 3, 3, 448)    0           batch_normalization_183[0][0]    \n",
      "__________________________________________________________________________________________________\n",
      "conv2d_186 (Conv2D)             (None, 3, 3, 384)    786432      mixed9[0][0]                     \n",
      "__________________________________________________________________________________________________\n",
      "conv2d_190 (Conv2D)             (None, 3, 3, 384)    1548288     activation_183[0][0]             \n",
      "__________________________________________________________________________________________________\n",
      "batch_normalization_180 (BatchN (None, 3, 3, 384)    1152        conv2d_186[0][0]                 \n",
      "__________________________________________________________________________________________________\n",
      "batch_normalization_184 (BatchN (None, 3, 3, 384)    1152        conv2d_190[0][0]                 \n",
      "__________________________________________________________________________________________________\n",
      "activation_180 (Activation)     (None, 3, 3, 384)    0           batch_normalization_180[0][0]    \n",
      "__________________________________________________________________________________________________\n",
      "activation_184 (Activation)     (None, 3, 3, 384)    0           batch_normalization_184[0][0]    \n",
      "__________________________________________________________________________________________________\n",
      "conv2d_187 (Conv2D)             (None, 3, 3, 384)    442368      activation_180[0][0]             \n",
      "__________________________________________________________________________________________________\n",
      "conv2d_188 (Conv2D)             (None, 3, 3, 384)    442368      activation_180[0][0]             \n",
      "__________________________________________________________________________________________________\n",
      "conv2d_191 (Conv2D)             (None, 3, 3, 384)    442368      activation_184[0][0]             \n",
      "__________________________________________________________________________________________________\n",
      "conv2d_192 (Conv2D)             (None, 3, 3, 384)    442368      activation_184[0][0]             \n",
      "__________________________________________________________________________________________________\n",
      "average_pooling2d_17 (AveragePo (None, 3, 3, 2048)   0           mixed9[0][0]                     \n",
      "__________________________________________________________________________________________________\n",
      "conv2d_185 (Conv2D)             (None, 3, 3, 320)    655360      mixed9[0][0]                     \n",
      "__________________________________________________________________________________________________\n",
      "batch_normalization_181 (BatchN (None, 3, 3, 384)    1152        conv2d_187[0][0]                 \n",
      "__________________________________________________________________________________________________\n",
      "batch_normalization_182 (BatchN (None, 3, 3, 384)    1152        conv2d_188[0][0]                 \n",
      "__________________________________________________________________________________________________\n",
      "batch_normalization_185 (BatchN (None, 3, 3, 384)    1152        conv2d_191[0][0]                 \n",
      "__________________________________________________________________________________________________\n",
      "batch_normalization_186 (BatchN (None, 3, 3, 384)    1152        conv2d_192[0][0]                 \n",
      "__________________________________________________________________________________________________\n",
      "conv2d_193 (Conv2D)             (None, 3, 3, 192)    393216      average_pooling2d_17[0][0]       \n",
      "__________________________________________________________________________________________________\n",
      "batch_normalization_179 (BatchN (None, 3, 3, 320)    960         conv2d_185[0][0]                 \n",
      "__________________________________________________________________________________________________\n",
      "activation_181 (Activation)     (None, 3, 3, 384)    0           batch_normalization_181[0][0]    \n",
      "__________________________________________________________________________________________________\n",
      "activation_182 (Activation)     (None, 3, 3, 384)    0           batch_normalization_182[0][0]    \n",
      "__________________________________________________________________________________________________\n",
      "activation_185 (Activation)     (None, 3, 3, 384)    0           batch_normalization_185[0][0]    \n",
      "__________________________________________________________________________________________________\n",
      "activation_186 (Activation)     (None, 3, 3, 384)    0           batch_normalization_186[0][0]    \n",
      "__________________________________________________________________________________________________\n",
      "batch_normalization_187 (BatchN (None, 3, 3, 192)    576         conv2d_193[0][0]                 \n",
      "__________________________________________________________________________________________________\n",
      "activation_179 (Activation)     (None, 3, 3, 320)    0           batch_normalization_179[0][0]    \n",
      "__________________________________________________________________________________________________\n",
      "mixed9_1 (Concatenate)          (None, 3, 3, 768)    0           activation_181[0][0]             \n",
      "                                                                 activation_182[0][0]             \n",
      "__________________________________________________________________________________________________\n",
      "concatenate_3 (Concatenate)     (None, 3, 3, 768)    0           activation_185[0][0]             \n",
      "                                                                 activation_186[0][0]             \n",
      "__________________________________________________________________________________________________\n",
      "activation_187 (Activation)     (None, 3, 3, 192)    0           batch_normalization_187[0][0]    \n",
      "__________________________________________________________________________________________________\n",
      "mixed10 (Concatenate)           (None, 3, 3, 2048)   0           activation_179[0][0]             \n",
      "                                                                 mixed9_1[0][0]                   \n",
      "                                                                 concatenate_3[0][0]              \n",
      "                                                                 activation_187[0][0]             \n",
      "==================================================================================================\n",
      "Total params: 21,802,784\n",
      "Trainable params: 0\n",
      "Non-trainable params: 21,802,784\n",
      "__________________________________________________________________________________________________\n"
     ]
    }
   ],
   "source": [
    "pre_trained_inception.summary()"
   ]
  },
  {
   "cell_type": "code",
   "execution_count": 53,
   "metadata": {},
   "outputs": [
    {
     "name": "stdout",
     "output_type": "stream",
     "text": [
      "last layer output shape:  (None, 3, 3, 2048)\n",
      "Tensor(\"mixed9_2/concat:0\", shape=(?, 3, 3, 2048), dtype=float32)\n"
     ]
    }
   ],
   "source": [
    "last_layer = pre_trained_inception.get_layer('mixed9')\n",
    "print('last layer output shape: ', last_layer.output_shape)\n",
    "last_output = last_layer.output\n",
    "print(last_output)"
   ]
  },
  {
   "cell_type": "code",
   "execution_count": 58,
   "metadata": {},
   "outputs": [
    {
     "name": "stdout",
     "output_type": "stream",
     "text": [
      "Train on 14034 samples, validate on 3000 samples\n",
      " 6496/14034 [============>.................] - ETA: 33:53 - loss: 1.8166 - acc: 0.15 - ETA: 26:52 - loss: 1.7746 - acc: 0.14 - ETA: 24:51 - loss: 1.7715 - acc: 0.15 - ETA: 23:32 - loss: 1.7344 - acc: 0.20 - ETA: 22:39 - loss: 1.6855 - acc: 0.26 - ETA: 22:38 - loss: 1.6689 - acc: 0.28 - ETA: 22:39 - loss: 1.6511 - acc: 0.29 - ETA: 22:49 - loss: 1.6382 - acc: 0.32 - ETA: 22:36 - loss: 1.6217 - acc: 0.33 - ETA: 22:09 - loss: 1.6001 - acc: 0.35 - ETA: 21:43 - loss: 1.5855 - acc: 0.36 - ETA: 22:03 - loss: 1.5685 - acc: 0.36 - ETA: 21:57 - loss: 1.5462 - acc: 0.38 - ETA: 21:36 - loss: 1.5327 - acc: 0.38 - ETA: 21:28 - loss: 1.5361 - acc: 0.39 - ETA: 21:47 - loss: 1.5121 - acc: 0.41 - ETA: 21:50 - loss: 1.4994 - acc: 0.41 - ETA: 21:41 - loss: 1.4906 - acc: 0.41 - ETA: 22:02 - loss: 1.4720 - acc: 0.42 - ETA: 21:43 - loss: 1.4648 - acc: 0.43 - ETA: 21:31 - loss: 1.4528 - acc: 0.43 - ETA: 21:22 - loss: 1.4370 - acc: 0.44 - ETA: 21:08 - loss: 1.4239 - acc: 0.44 - ETA: 20:55 - loss: 1.4166 - acc: 0.45 - ETA: 20:43 - loss: 1.4127 - acc: 0.45 - ETA: 20:30 - loss: 1.4035 - acc: 0.46 - ETA: 20:19 - loss: 1.3971 - acc: 0.46 - ETA: 20:10 - loss: 1.3852 - acc: 0.47 - ETA: 20:03 - loss: 1.3745 - acc: 0.48 - ETA: 19:52 - loss: 1.3615 - acc: 0.48 - ETA: 19:44 - loss: 1.3539 - acc: 0.49 - ETA: 19:34 - loss: 1.3473 - acc: 0.49 - ETA: 19:26 - loss: 1.3397 - acc: 0.50 - ETA: 19:18 - loss: 1.3269 - acc: 0.50 - ETA: 19:16 - loss: 1.3180 - acc: 0.51 - ETA: 19:09 - loss: 1.3141 - acc: 0.51 - ETA: 19:01 - loss: 1.3075 - acc: 0.51 - ETA: 18:54 - loss: 1.2930 - acc: 0.52 - ETA: 18:47 - loss: 1.2800 - acc: 0.52 - ETA: 18:43 - loss: 1.2683 - acc: 0.53 - ETA: 18:38 - loss: 1.2589 - acc: 0.53 - ETA: 18:32 - loss: 1.2508 - acc: 0.53 - ETA: 18:30 - loss: 1.2368 - acc: 0.54 - ETA: 18:27 - loss: 1.2331 - acc: 0.54 - ETA: 18:24 - loss: 1.2237 - acc: 0.54 - ETA: 18:18 - loss: 1.2222 - acc: 0.55 - ETA: 18:15 - loss: 1.2104 - acc: 0.55 - ETA: 18:11 - loss: 1.1975 - acc: 0.56 - ETA: 18:09 - loss: 1.1897 - acc: 0.56 - ETA: 18:05 - loss: 1.1835 - acc: 0.56 - ETA: 18:00 - loss: 1.1804 - acc: 0.56 - ETA: 17:56 - loss: 1.1734 - acc: 0.57 - ETA: 17:53 - loss: 1.1659 - acc: 0.57 - ETA: 17:49 - loss: 1.1617 - acc: 0.57 - ETA: 17:43 - loss: 1.1544 - acc: 0.58 - ETA: 17:40 - loss: 1.1502 - acc: 0.58 - ETA: 17:42 - loss: 1.1472 - acc: 0.58 - ETA: 17:37 - loss: 1.1400 - acc: 0.58 - ETA: 17:33 - loss: 1.1313 - acc: 0.59 - ETA: 17:30 - loss: 1.1293 - acc: 0.59 - ETA: 17:25 - loss: 1.1219 - acc: 0.59 - ETA: 17:20 - loss: 1.1156 - acc: 0.59 - ETA: 17:17 - loss: 1.1136 - acc: 0.59 - ETA: 17:13 - loss: 1.1064 - acc: 0.59 - ETA: 17:09 - loss: 1.1051 - acc: 0.60 - ETA: 17:06 - loss: 1.0959 - acc: 0.60 - ETA: 17:02 - loss: 1.0889 - acc: 0.60 - ETA: 16:58 - loss: 1.0849 - acc: 0.60 - ETA: 16:54 - loss: 1.0796 - acc: 0.61 - ETA: 16:50 - loss: 1.0726 - acc: 0.61 - ETA: 16:54 - loss: 1.0722 - acc: 0.61 - ETA: 16:52 - loss: 1.0659 - acc: 0.61 - ETA: 16:49 - loss: 1.0607 - acc: 0.61 - ETA: 16:46 - loss: 1.0555 - acc: 0.61 - ETA: 16:41 - loss: 1.0479 - acc: 0.62 - ETA: 16:38 - loss: 1.0454 - acc: 0.62 - ETA: 16:36 - loss: 1.0403 - acc: 0.62 - ETA: 16:33 - loss: 1.0322 - acc: 0.62 - ETA: 16:30 - loss: 1.0263 - acc: 0.63 - ETA: 16:25 - loss: 1.0242 - acc: 0.63 - ETA: 16:22 - loss: 1.0196 - acc: 0.63 - ETA: 16:18 - loss: 1.0124 - acc: 0.63 - ETA: 16:16 - loss: 1.0090 - acc: 0.64 - ETA: 16:12 - loss: 1.0067 - acc: 0.64 - ETA: 16:08 - loss: 1.0032 - acc: 0.64 - ETA: 16:04 - loss: 0.9988 - acc: 0.64 - ETA: 16:00 - loss: 0.9958 - acc: 0.64 - ETA: 15:56 - loss: 0.9921 - acc: 0.64 - ETA: 15:52 - loss: 0.9899 - acc: 0.64 - ETA: 15:49 - loss: 0.9871 - acc: 0.65 - ETA: 15:45 - loss: 0.9819 - acc: 0.65 - ETA: 15:41 - loss: 0.9775 - acc: 0.65 - ETA: 15:38 - loss: 0.9772 - acc: 0.65 - ETA: 15:35 - loss: 0.9760 - acc: 0.65 - ETA: 15:32 - loss: 0.9717 - acc: 0.65 - ETA: 15:29 - loss: 0.9694 - acc: 0.65 - ETA: 15:26 - loss: 0.9654 - acc: 0.65 - ETA: 15:24 - loss: 0.9627 - acc: 0.65 - ETA: 15:22 - loss: 0.9617 - acc: 0.65 - ETA: 15:22 - loss: 0.9584 - acc: 0.65 - ETA: 15:23 - loss: 0.9526 - acc: 0.66 - ETA: 15:23 - loss: 0.9504 - acc: 0.66 - ETA: 15:22 - loss: 0.9463 - acc: 0.66 - ETA: 15:19 - loss: 0.9430 - acc: 0.66 - ETA: 15:21 - loss: 0.9404 - acc: 0.66 - ETA: 15:20 - loss: 0.9362 - acc: 0.66 - ETA: 15:22 - loss: 0.9317 - acc: 0.66 - ETA: 15:20 - loss: 0.9290 - acc: 0.66 - ETA: 15:18 - loss: 0.9252 - acc: 0.67 - ETA: 15:19 - loss: 0.9235 - acc: 0.67 - ETA: 15:17 - loss: 0.9199 - acc: 0.67 - ETA: 15:14 - loss: 0.9184 - acc: 0.67 - ETA: 15:11 - loss: 0.9163 - acc: 0.67 - ETA: 15:11 - loss: 0.9135 - acc: 0.67 - ETA: 15:08 - loss: 0.9113 - acc: 0.67 - ETA: 15:05 - loss: 0.9114 - acc: 0.67 - ETA: 15:03 - loss: 0.9077 - acc: 0.67 - ETA: 15:01 - loss: 0.9050 - acc: 0.67 - ETA: 14:58 - loss: 0.9014 - acc: 0.68 - ETA: 14:59 - loss: 0.8981 - acc: 0.68 - ETA: 14:58 - loss: 0.8983 - acc: 0.68 - ETA: 15:00 - loss: 0.8996 - acc: 0.68 - ETA: 14:59 - loss: 0.8990 - acc: 0.68 - ETA: 14:56 - loss: 0.8975 - acc: 0.68 - ETA: 14:55 - loss: 0.8976 - acc: 0.68 - ETA: 14:54 - loss: 0.8945 - acc: 0.68 - ETA: 14:55 - loss: 0.8910 - acc: 0.68 - ETA: 14:55 - loss: 0.8864 - acc: 0.68 - ETA: 14:52 - loss: 0.8831 - acc: 0.68 - ETA: 14:52 - loss: 0.8820 - acc: 0.68 - ETA: 14:49 - loss: 0.8808 - acc: 0.69 - ETA: 14:48 - loss: 0.8787 - acc: 0.69 - ETA: 14:46 - loss: 0.8748 - acc: 0.69 - ETA: 14:44 - loss: 0.8704 - acc: 0.69 - ETA: 14:43 - loss: 0.8680 - acc: 0.69 - ETA: 14:42 - loss: 0.8683 - acc: 0.69 - ETA: 14:41 - loss: 0.8660 - acc: 0.69 - ETA: 14:38 - loss: 0.8626 - acc: 0.69 - ETA: 14:37 - loss: 0.8613 - acc: 0.69 - ETA: 14:33 - loss: 0.8575 - acc: 0.70 - ETA: 14:30 - loss: 0.8558 - acc: 0.70 - ETA: 14:26 - loss: 0.8538 - acc: 0.70 - ETA: 14:25 - loss: 0.8525 - acc: 0.70 - ETA: 14:22 - loss: 0.8485 - acc: 0.70 - ETA: 14:18 - loss: 0.8450 - acc: 0.70 - ETA: 14:16 - loss: 0.8428 - acc: 0.70 - ETA: 14:15 - loss: 0.8413 - acc: 0.70 - ETA: 14:12 - loss: 0.8381 - acc: 0.70 - ETA: 14:09 - loss: 0.8347 - acc: 0.70 - ETA: 14:06 - loss: 0.8349 - acc: 0.70 - ETA: 14:05 - loss: 0.8315 - acc: 0.70 - ETA: 14:02 - loss: 0.8297 - acc: 0.70 - ETA: 13:58 - loss: 0.8284 - acc: 0.70 - ETA: 13:55 - loss: 0.8256 - acc: 0.71 - ETA: 13:52 - loss: 0.8235 - acc: 0.71 - ETA: 13:48 - loss: 0.8215 - acc: 0.71 - ETA: 13:45 - loss: 0.8201 - acc: 0.71 - ETA: 13:44 - loss: 0.8174 - acc: 0.71 - ETA: 13:42 - loss: 0.8168 - acc: 0.71 - ETA: 13:39 - loss: 0.8156 - acc: 0.71 - ETA: 13:38 - loss: 0.8152 - acc: 0.71 - ETA: 13:36 - loss: 0.8119 - acc: 0.71 - ETA: 13:32 - loss: 0.8101 - acc: 0.71 - ETA: 13:31 - loss: 0.8085 - acc: 0.71 - ETA: 13:27 - loss: 0.8069 - acc: 0.71 - ETA: 13:23 - loss: 0.8048 - acc: 0.71 - ETA: 13:20 - loss: 0.8041 - acc: 0.71 - ETA: 13:16 - loss: 0.8042 - acc: 0.71 - ETA: 13:13 - loss: 0.8027 - acc: 0.71 - ETA: 13:10 - loss: 0.8026 - acc: 0.71 - ETA: 13:07 - loss: 0.8001 - acc: 0.71 - ETA: 13:03 - loss: 0.7984 - acc: 0.71 - ETA: 13:01 - loss: 0.7981 - acc: 0.71 - ETA: 12:58 - loss: 0.7965 - acc: 0.71 - ETA: 12:55 - loss: 0.7948 - acc: 0.72 - ETA: 12:52 - loss: 0.7939 - acc: 0.72 - ETA: 12:49 - loss: 0.7923 - acc: 0.72 - ETA: 12:47 - loss: 0.7928 - acc: 0.72 - ETA: 12:43 - loss: 0.7922 - acc: 0.72 - ETA: 12:41 - loss: 0.7917 - acc: 0.72 - ETA: 12:38 - loss: 0.7929 - acc: 0.72 - ETA: 12:37 - loss: 0.7920 - acc: 0.72 - ETA: 12:34 - loss: 0.7905 - acc: 0.72 - ETA: 12:31 - loss: 0.7933 - acc: 0.72 - ETA: 12:28 - loss: 0.7915 - acc: 0.72 - ETA: 12:26 - loss: 0.7894 - acc: 0.72 - ETA: 12:23 - loss: 0.7879 - acc: 0.72 - ETA: 12:20 - loss: 0.7874 - acc: 0.72 - ETA: 12:18 - loss: 0.7859 - acc: 0.72 - ETA: 12:17 - loss: 0.7844 - acc: 0.72 - ETA: 12:13 - loss: 0.7828 - acc: 0.72 - ETA: 12:11 - loss: 0.7805 - acc: 0.72 - ETA: 12:08 - loss: 0.7791 - acc: 0.72 - ETA: 12:05 - loss: 0.7782 - acc: 0.72 - ETA: 12:02 - loss: 0.7767 - acc: 0.72 - ETA: 11:59 - loss: 0.7748 - acc: 0.72 - ETA: 11:57 - loss: 0.7728 - acc: 0.72 - ETA: 11:54 - loss: 0.7708 - acc: 0.72 - ETA: 11:50 - loss: 0.7703 - acc: 0.72 - ETA: 11:48 - loss: 0.7680 - acc: 0.73 - ETA: 11:45 - loss: 0.7664 - acc: 0.73 - ETA: 11:43 - loss: 0.7652 - acc: 0.73 - ETA: 11:39 - loss: 0.7632 - acc: 0.7321\b\b\b\b\b\b\b\b\b\b\b\b\b\b\b\b\b\b\b\b\b\b\b\b\b\b\b\b\b\b\b\b\b\b\b\b\b\b\b\b\b\b\b\b\b\b\b\b\b\b\b\b\b\b\b\b\b\b\b\b\b\b\b\b\b\b\b\b\b\b\b\b\b\b\b\b\b\b\b\b\b\b\b\b\b\b13024/14034 [==========================>...] - ETA: 11:37 - loss: 0.7628 - acc: 0.73 - ETA: 11:35 - loss: 0.7608 - acc: 0.73 - ETA: 11:33 - loss: 0.7583 - acc: 0.73 - ETA: 11:31 - loss: 0.7569 - acc: 0.73 - ETA: 11:27 - loss: 0.7547 - acc: 0.73 - ETA: 11:24 - loss: 0.7534 - acc: 0.73 - ETA: 11:22 - loss: 0.7519 - acc: 0.73 - ETA: 11:20 - loss: 0.7506 - acc: 0.73 - ETA: 11:17 - loss: 0.7492 - acc: 0.73 - ETA: 11:14 - loss: 0.7487 - acc: 0.73 - ETA: 11:10 - loss: 0.7476 - acc: 0.73 - ETA: 11:08 - loss: 0.7465 - acc: 0.73 - ETA: 11:05 - loss: 0.7455 - acc: 0.73 - ETA: 11:02 - loss: 0.7444 - acc: 0.73 - ETA: 10:59 - loss: 0.7426 - acc: 0.73 - ETA: 10:56 - loss: 0.7408 - acc: 0.74 - ETA: 10:52 - loss: 0.7395 - acc: 0.74 - ETA: 10:50 - loss: 0.7378 - acc: 0.74 - ETA: 10:47 - loss: 0.7366 - acc: 0.74 - ETA: 10:43 - loss: 0.7355 - acc: 0.74 - ETA: 10:40 - loss: 0.7349 - acc: 0.74 - ETA: 10:37 - loss: 0.7343 - acc: 0.74 - ETA: 10:35 - loss: 0.7341 - acc: 0.74 - ETA: 10:31 - loss: 0.7325 - acc: 0.74 - ETA: 10:29 - loss: 0.7316 - acc: 0.74 - ETA: 10:25 - loss: 0.7297 - acc: 0.74 - ETA: 10:23 - loss: 0.7283 - acc: 0.74 - ETA: 10:20 - loss: 0.7265 - acc: 0.74 - ETA: 10:17 - loss: 0.7256 - acc: 0.74 - ETA: 10:15 - loss: 0.7241 - acc: 0.74 - ETA: 10:12 - loss: 0.7220 - acc: 0.74 - ETA: 10:08 - loss: 0.7213 - acc: 0.74 - ETA: 10:05 - loss: 0.7209 - acc: 0.74 - ETA: 10:02 - loss: 0.7198 - acc: 0.74 - ETA: 9:59 - loss: 0.7195 - acc: 0.7480 - ETA: 9:56 - loss: 0.7190 - acc: 0.748 - ETA: 9:53 - loss: 0.7192 - acc: 0.747 - ETA: 9:50 - loss: 0.7175 - acc: 0.748 - ETA: 9:47 - loss: 0.7155 - acc: 0.749 - ETA: 9:44 - loss: 0.7163 - acc: 0.749 - ETA: 9:41 - loss: 0.7146 - acc: 0.750 - ETA: 9:38 - loss: 0.7133 - acc: 0.750 - ETA: 9:35 - loss: 0.7116 - acc: 0.751 - ETA: 9:33 - loss: 0.7110 - acc: 0.751 - ETA: 9:30 - loss: 0.7094 - acc: 0.751 - ETA: 9:27 - loss: 0.7078 - acc: 0.752 - ETA: 9:24 - loss: 0.7080 - acc: 0.752 - ETA: 9:21 - loss: 0.7068 - acc: 0.752 - ETA: 9:20 - loss: 0.7065 - acc: 0.752 - ETA: 9:17 - loss: 0.7055 - acc: 0.753 - ETA: 9:14 - loss: 0.7059 - acc: 0.752 - ETA: 9:12 - loss: 0.7045 - acc: 0.753 - ETA: 9:09 - loss: 0.7047 - acc: 0.753 - ETA: 9:07 - loss: 0.7039 - acc: 0.753 - ETA: 9:04 - loss: 0.7037 - acc: 0.754 - ETA: 9:00 - loss: 0.7024 - acc: 0.754 - ETA: 8:57 - loss: 0.7023 - acc: 0.754 - ETA: 8:54 - loss: 0.7031 - acc: 0.754 - ETA: 8:52 - loss: 0.7015 - acc: 0.755 - ETA: 8:49 - loss: 0.6999 - acc: 0.755 - ETA: 8:46 - loss: 0.6983 - acc: 0.756 - ETA: 8:43 - loss: 0.6998 - acc: 0.755 - ETA: 8:40 - loss: 0.7008 - acc: 0.755 - ETA: 8:37 - loss: 0.7002 - acc: 0.755 - ETA: 8:34 - loss: 0.6991 - acc: 0.756 - ETA: 8:31 - loss: 0.6979 - acc: 0.756 - ETA: 8:29 - loss: 0.6964 - acc: 0.757 - ETA: 8:26 - loss: 0.6958 - acc: 0.757 - ETA: 8:23 - loss: 0.6945 - acc: 0.757 - ETA: 8:20 - loss: 0.6938 - acc: 0.758 - ETA: 8:17 - loss: 0.6935 - acc: 0.758 - ETA: 8:14 - loss: 0.6932 - acc: 0.758 - ETA: 8:11 - loss: 0.6929 - acc: 0.758 - ETA: 8:09 - loss: 0.6929 - acc: 0.758 - ETA: 8:06 - loss: 0.6913 - acc: 0.758 - ETA: 8:03 - loss: 0.6928 - acc: 0.758 - ETA: 8:00 - loss: 0.6927 - acc: 0.758 - ETA: 7:57 - loss: 0.6925 - acc: 0.758 - ETA: 7:54 - loss: 0.6919 - acc: 0.758 - ETA: 7:51 - loss: 0.6910 - acc: 0.759 - ETA: 7:48 - loss: 0.6910 - acc: 0.759 - ETA: 7:45 - loss: 0.6906 - acc: 0.759 - ETA: 7:42 - loss: 0.6899 - acc: 0.760 - ETA: 7:39 - loss: 0.6894 - acc: 0.760 - ETA: 7:36 - loss: 0.6889 - acc: 0.760 - ETA: 7:33 - loss: 0.6883 - acc: 0.760 - ETA: 7:30 - loss: 0.6879 - acc: 0.760 - ETA: 7:28 - loss: 0.6862 - acc: 0.761 - ETA: 7:25 - loss: 0.6867 - acc: 0.760 - ETA: 7:22 - loss: 0.6865 - acc: 0.761 - ETA: 7:19 - loss: 0.6863 - acc: 0.760 - ETA: 7:16 - loss: 0.6849 - acc: 0.761 - ETA: 7:13 - loss: 0.6836 - acc: 0.762 - ETA: 7:10 - loss: 0.6833 - acc: 0.761 - ETA: 7:08 - loss: 0.6824 - acc: 0.762 - ETA: 7:05 - loss: 0.6820 - acc: 0.762 - ETA: 7:02 - loss: 0.6807 - acc: 0.762 - ETA: 6:59 - loss: 0.6806 - acc: 0.762 - ETA: 6:56 - loss: 0.6797 - acc: 0.763 - ETA: 6:53 - loss: 0.6781 - acc: 0.763 - ETA: 6:50 - loss: 0.6775 - acc: 0.764 - ETA: 6:47 - loss: 0.6768 - acc: 0.764 - ETA: 6:44 - loss: 0.6763 - acc: 0.764 - ETA: 6:41 - loss: 0.6750 - acc: 0.764 - ETA: 6:38 - loss: 0.6743 - acc: 0.764 - ETA: 6:35 - loss: 0.6734 - acc: 0.765 - ETA: 6:32 - loss: 0.6719 - acc: 0.765 - ETA: 6:29 - loss: 0.6721 - acc: 0.765 - ETA: 6:26 - loss: 0.6723 - acc: 0.765 - ETA: 6:22 - loss: 0.6722 - acc: 0.765 - ETA: 6:20 - loss: 0.6706 - acc: 0.765 - ETA: 6:16 - loss: 0.6696 - acc: 0.766 - ETA: 6:14 - loss: 0.6702 - acc: 0.766 - ETA: 6:11 - loss: 0.6698 - acc: 0.766 - ETA: 6:07 - loss: 0.6684 - acc: 0.766 - ETA: 6:04 - loss: 0.6674 - acc: 0.766 - ETA: 6:01 - loss: 0.6665 - acc: 0.767 - ETA: 5:58 - loss: 0.6662 - acc: 0.767 - ETA: 5:55 - loss: 0.6653 - acc: 0.767 - ETA: 5:52 - loss: 0.6651 - acc: 0.768 - ETA: 5:49 - loss: 0.6648 - acc: 0.767 - ETA: 5:46 - loss: 0.6637 - acc: 0.768 - ETA: 5:43 - loss: 0.6634 - acc: 0.768 - ETA: 5:40 - loss: 0.6645 - acc: 0.768 - ETA: 5:37 - loss: 0.6647 - acc: 0.768 - ETA: 5:34 - loss: 0.6638 - acc: 0.768 - ETA: 5:31 - loss: 0.6633 - acc: 0.769 - ETA: 5:28 - loss: 0.6623 - acc: 0.769 - ETA: 5:25 - loss: 0.6619 - acc: 0.769 - ETA: 5:22 - loss: 0.6613 - acc: 0.769 - ETA: 5:19 - loss: 0.6617 - acc: 0.769 - ETA: 5:16 - loss: 0.6608 - acc: 0.769 - ETA: 5:14 - loss: 0.6603 - acc: 0.770 - ETA: 5:11 - loss: 0.6603 - acc: 0.769 - ETA: 5:08 - loss: 0.6601 - acc: 0.769 - ETA: 5:05 - loss: 0.6596 - acc: 0.769 - ETA: 5:02 - loss: 0.6596 - acc: 0.769 - ETA: 4:59 - loss: 0.6593 - acc: 0.769 - ETA: 4:55 - loss: 0.6596 - acc: 0.769 - ETA: 4:52 - loss: 0.6587 - acc: 0.769 - ETA: 4:49 - loss: 0.6578 - acc: 0.769 - ETA: 4:46 - loss: 0.6574 - acc: 0.770 - ETA: 4:43 - loss: 0.6571 - acc: 0.770 - ETA: 4:40 - loss: 0.6573 - acc: 0.770 - ETA: 4:38 - loss: 0.6564 - acc: 0.770 - ETA: 4:34 - loss: 0.6564 - acc: 0.770 - ETA: 4:32 - loss: 0.6563 - acc: 0.770 - ETA: 4:29 - loss: 0.6559 - acc: 0.770 - ETA: 4:25 - loss: 0.6566 - acc: 0.770 - ETA: 4:23 - loss: 0.6576 - acc: 0.769 - ETA: 4:19 - loss: 0.6566 - acc: 0.770 - ETA: 4:16 - loss: 0.6562 - acc: 0.770 - ETA: 4:13 - loss: 0.6552 - acc: 0.770 - ETA: 4:10 - loss: 0.6553 - acc: 0.770 - ETA: 4:07 - loss: 0.6548 - acc: 0.770 - ETA: 4:04 - loss: 0.6541 - acc: 0.771 - ETA: 4:01 - loss: 0.6553 - acc: 0.771 - ETA: 3:58 - loss: 0.6541 - acc: 0.771 - ETA: 3:55 - loss: 0.6538 - acc: 0.771 - ETA: 3:52 - loss: 0.6534 - acc: 0.771 - ETA: 3:49 - loss: 0.6525 - acc: 0.772 - ETA: 3:46 - loss: 0.6524 - acc: 0.772 - ETA: 3:43 - loss: 0.6517 - acc: 0.772 - ETA: 3:40 - loss: 0.6509 - acc: 0.772 - ETA: 3:37 - loss: 0.6500 - acc: 0.772 - ETA: 3:34 - loss: 0.6498 - acc: 0.772 - ETA: 3:31 - loss: 0.6487 - acc: 0.773 - ETA: 3:28 - loss: 0.6479 - acc: 0.773 - ETA: 3:25 - loss: 0.6476 - acc: 0.773 - ETA: 3:22 - loss: 0.6479 - acc: 0.773 - ETA: 3:19 - loss: 0.6477 - acc: 0.773 - ETA: 3:15 - loss: 0.6471 - acc: 0.773 - ETA: 3:12 - loss: 0.6466 - acc: 0.773 - ETA: 3:10 - loss: 0.6461 - acc: 0.773 - ETA: 3:07 - loss: 0.6456 - acc: 0.774 - ETA: 3:03 - loss: 0.6453 - acc: 0.774 - ETA: 3:01 - loss: 0.6451 - acc: 0.774 - ETA: 2:58 - loss: 0.6449 - acc: 0.774 - ETA: 2:55 - loss: 0.6447 - acc: 0.774 - ETA: 2:51 - loss: 0.6437 - acc: 0.774 - ETA: 2:48 - loss: 0.6429 - acc: 0.775 - ETA: 2:45 - loss: 0.6421 - acc: 0.775 - ETA: 2:42 - loss: 0.6412 - acc: 0.775 - ETA: 2:39 - loss: 0.6401 - acc: 0.776 - ETA: 2:36 - loss: 0.6395 - acc: 0.776 - ETA: 2:33 - loss: 0.6398 - acc: 0.776 - ETA: 2:30 - loss: 0.6393 - acc: 0.776 - ETA: 2:27 - loss: 0.6388 - acc: 0.776 - ETA: 2:24 - loss: 0.6382 - acc: 0.776 - ETA: 2:21 - loss: 0.6376 - acc: 0.776 - ETA: 2:18 - loss: 0.6366 - acc: 0.777 - ETA: 2:15 - loss: 0.6366 - acc: 0.777 - ETA: 2:11 - loss: 0.6355 - acc: 0.777 - ETA: 2:08 - loss: 0.6351 - acc: 0.778 - ETA: 2:05 - loss: 0.6352 - acc: 0.778 - ETA: 2:02 - loss: 0.6351 - acc: 0.778 - ETA: 1:59 - loss: 0.6340 - acc: 0.778 - ETA: 1:56 - loss: 0.6333 - acc: 0.778 - ETA: 1:53 - loss: 0.6333 - acc: 0.779 - ETA: 1:50 - loss: 0.6329 - acc: 0.779 - ETA: 1:47 - loss: 0.6322 - acc: 0.779 - ETA: 1:44 - loss: 0.6314 - acc: 0.780 - ETA: 1:40 - loss: 0.6317 - acc: 0.779 - ETA: 1:37 - loss: 0.6325 - acc: 0.779614034/14034 [==============================] - ETA: 1:34 - loss: 0.6314 - acc: 0.780 - ETA: 1:31 - loss: 0.6312 - acc: 0.780 - ETA: 1:28 - loss: 0.6304 - acc: 0.780 - ETA: 1:25 - loss: 0.6296 - acc: 0.780 - ETA: 1:22 - loss: 0.6293 - acc: 0.780 - ETA: 1:19 - loss: 0.6291 - acc: 0.780 - ETA: 1:16 - loss: 0.6290 - acc: 0.781 - ETA: 1:12 - loss: 0.6286 - acc: 0.781 - ETA: 1:09 - loss: 0.6281 - acc: 0.781 - ETA: 1:06 - loss: 0.6281 - acc: 0.781 - ETA: 1:03 - loss: 0.6275 - acc: 0.781 - ETA: 1:00 - loss: 0.6270 - acc: 0.781 - ETA: 57s - loss: 0.6265 - acc: 0.781 - ETA: 54s - loss: 0.6261 - acc: 0.78 - ETA: 51s - loss: 0.6257 - acc: 0.78 - ETA: 48s - loss: 0.6254 - acc: 0.78 - ETA: 45s - loss: 0.6250 - acc: 0.78 - ETA: 41s - loss: 0.6246 - acc: 0.78 - ETA: 38s - loss: 0.6247 - acc: 0.78 - ETA: 35s - loss: 0.6240 - acc: 0.78 - ETA: 32s - loss: 0.6236 - acc: 0.78 - ETA: 29s - loss: 0.6234 - acc: 0.78 - ETA: 26s - loss: 0.6230 - acc: 0.78 - ETA: 23s - loss: 0.6220 - acc: 0.78 - ETA: 20s - loss: 0.6227 - acc: 0.78 - ETA: 17s - loss: 0.6224 - acc: 0.78 - ETA: 14s - loss: 0.6216 - acc: 0.78 - ETA: 11s - loss: 0.6211 - acc: 0.78 - ETA: 7s - loss: 0.6215 - acc: 0.7838 - ETA: 4s - loss: 0.6211 - acc: 0.783 - ETA: 1s - loss: 0.6203 - acc: 0.784 - 1567s 112ms/sample - loss: 0.6208 - acc: 0.7839 - val_loss: 0.5600 - val_acc: 0.8340\n"
     ]
    }
   ],
   "source": [
    "x = layers.Flatten()(last_output)\n",
    "x = layers.Dense(1024, activation='relu')(x)\n",
    "x = layers.Dropout(0.2)(x)    \n",
    "x = layers.Dense(128, activation='relu')(x)\n",
    "x = layers.Dropout(0.2)(x)    \n",
    "x = layers.Dense(64, activation='relu')(x)\n",
    "x = layers.Dropout(0.2)(x)\n",
    "x = layers.Dense(6, activation='softmax')(x)           \n",
    "\n",
    "model = Model(pre_trained_inception.input, x) \n",
    "\n",
    "model.compile(optimizer = RMSprop(lr=0.0001), \n",
    "              loss = 'sparse_categorical_crossentropy', \n",
    "              metrics = ['acc'])\n",
    "\n",
    "history=model.fit(train_images,train_labels,epochs=1,validation_data=(test_images,test_labels))"
   ]
  },
  {
   "cell_type": "code",
   "execution_count": 60,
   "metadata": {},
   "outputs": [
    {
     "data": {
      "text/plain": [
       "[0.6207736939365952]"
      ]
     },
     "execution_count": 60,
     "metadata": {},
     "output_type": "execute_result"
    }
   ],
   "source": [
    "history.history['loss']"
   ]
  },
  {
   "cell_type": "code",
   "execution_count": 61,
   "metadata": {},
   "outputs": [
    {
     "data": {
      "text/plain": [
       "[0.783882]"
      ]
     },
     "execution_count": 61,
     "metadata": {},
     "output_type": "execute_result"
    }
   ],
   "source": [
    "history.history['acc']"
   ]
  },
  {
   "cell_type": "code",
   "execution_count": 62,
   "metadata": {},
   "outputs": [
    {
     "data": {
      "text/plain": [
       "[0.5600308110316594]"
      ]
     },
     "execution_count": 62,
     "metadata": {},
     "output_type": "execute_result"
    }
   ],
   "source": [
    "history.history['val_loss']"
   ]
  },
  {
   "cell_type": "code",
   "execution_count": 64,
   "metadata": {},
   "outputs": [
    {
     "data": {
      "text/plain": [
       "[0.834]"
      ]
     },
     "execution_count": 64,
     "metadata": {},
     "output_type": "execute_result"
    }
   ],
   "source": [
    "history.history['val_acc']"
   ]
  },
  {
   "cell_type": "code",
   "execution_count": null,
   "metadata": {},
   "outputs": [],
   "source": []
  }
 ],
 "metadata": {
  "kernelspec": {
   "display_name": "Python 3",
   "language": "python",
   "name": "python3"
  },
  "language_info": {
   "codemirror_mode": {
    "name": "ipython",
    "version": 3
   },
   "file_extension": ".py",
   "mimetype": "text/x-python",
   "name": "python",
   "nbconvert_exporter": "python",
   "pygments_lexer": "ipython3",
   "version": "3.7.1"
  }
 },
 "nbformat": 4,
 "nbformat_minor": 2
}
